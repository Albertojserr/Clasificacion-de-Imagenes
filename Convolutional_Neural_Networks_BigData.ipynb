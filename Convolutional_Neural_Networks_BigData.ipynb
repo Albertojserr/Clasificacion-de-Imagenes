{
 "cells": [
  {
   "cell_type": "markdown",
   "id": "496631ea",
   "metadata": {
    "id": "496631ea"
   },
   "source": [
    "# Módulo 1: Análisis de datos en el ecosistema Python"
   ]
  },
  {
   "cell_type": "markdown",
   "id": "3a14cd3f",
   "metadata": {
    "id": "3a14cd3f"
   },
   "source": [
    "### Sesión (17)"
   ]
  },
  {
   "cell_type": "markdown",
   "id": "6acd93e7",
   "metadata": {
    "id": "6acd93e7"
   },
   "source": [
    "**23/01/2023**"
   ]
  },
  {
   "cell_type": "markdown",
   "id": "fbaae337",
   "metadata": {
    "id": "fbaae337"
   },
   "source": [
    "## Clasificación de imágenes con redes neuronales convolucionales"
   ]
  },
  {
   "cell_type": "markdown",
   "id": "184d25f9",
   "metadata": {
    "id": "184d25f9"
   },
   "source": [
    "![image.png](attachment:image.png)"
   ]
  },
  {
   "cell_type": "markdown",
   "id": "63c4ad81",
   "metadata": {
    "id": "63c4ad81"
   },
   "source": [
    "Las **[redes neuronales convolucionales (CNN) o _ConvNet_](https://es.wikipedia.org/wiki/Red_neuronal_convolucional)** son una variación de redes neuronales profundas (DNN) o perceptrón multicapa (MLP) que **se aplican sobre las matrices bidimensionales como imágenes**. Estas redes consisten en **múltiples capas de filtros convolucionales que procesan la información en una manera muy parecida al cortex visual del ojo humano**, por lo tanto son muy efectivas para tareas de **visión artificial**, clasificación y segmentación de imágenes, entre otras aplicaciones.\n",
    "\n",
    "En otro tipo de problemas de clasificación, **siempre se procesan los datos para llegar a determinar las variables o los _features_** que caracterizan a una observación. En caso de _visión artificial_, donde cada observación es una imágen, también debemos llegar a **definir un conjunto preferiblemente reducido de características** para después desarrollar un clasificador basado en esos aspectos. \n",
    "\n",
    "Por este motivo, al **principio** de una red neuronal convolucional se encuentra **la fase de extracción de _features_** o características, donde **al igual que el proceso estimulante en las células del cortex visual**, se forman los atributos más importantes y **se disminuye la dimensionalidad** mediante la aplicación de **varias capas convolucionales y de reducción de muestreo**.\n",
    "\n",
    "Después, se encuentran neuronas de perceptrón sencillas en una **estructura densa (_fully-connected_)** que realizan la **clasificación final** sobre las características extraídas.\n",
    "\n"
   ]
  },
  {
   "cell_type": "markdown",
   "id": "1d62b949",
   "metadata": {
    "id": "1d62b949"
   },
   "source": [
    "![image.png](attachment:image.png)"
   ]
  },
  {
   "cell_type": "markdown",
   "id": "29e3a800",
   "metadata": {
    "id": "29e3a800"
   },
   "source": [
    "### Procesado convolucional"
   ]
  },
  {
   "cell_type": "markdown",
   "id": "c382b480",
   "metadata": {
    "id": "c382b480"
   },
   "source": [
    "Sabemos que los imágenes no son más que grupos de píxeles juntos. Una **imagen RGB** no es más que una **matriz de valores de píxeles** que tiene **tres nivels de información**, mientras que una imagen en **escala de grises** se representa con una matriz en **un plano**. "
   ]
  },
  {
   "cell_type": "markdown",
   "id": "8a675d0d",
   "metadata": {
    "id": "8a675d0d"
   },
   "source": [
    "![image.png](attachment:image.png)"
   ]
  },
  {
   "cell_type": "markdown",
   "id": "6f367614",
   "metadata": {
    "id": "6f367614"
   },
   "source": [
    "Una técnica común consiste en **normalizar estos valores** antes de proceder a entrenar el modelo de la red neuronal. "
   ]
  },
  {
   "cell_type": "markdown",
   "id": "525bf76a",
   "metadata": {
    "id": "525bf76a"
   },
   "source": [
    "![image.png](attachment:image.png)"
   ]
  },
  {
   "cell_type": "markdown",
   "id": "d9614d27",
   "metadata": {
    "id": "d9614d27"
   },
   "source": [
    "La **convolución** consiste en **extraer localmente las características** y los patrones específicos de los objetos presentes en una imagen. Para ello se consideran **grupos de pixeles adyacentes** de la imagen para sacar el producto escalar (convolución) contra un pequeño filtro o mejor dicho una matriz llamada **`kernel`**.\n"
   ]
  },
  {
   "cell_type": "markdown",
   "id": "d70a2b9c",
   "metadata": {
    "id": "d70a2b9c"
   },
   "source": [
    "![Conv_no_padding_strides.gif](attachment:Conv_no_padding_strides.gif)"
   ]
  },
  {
   "cell_type": "markdown",
   "id": "6e182585",
   "metadata": {
    "id": "6e182585"
   },
   "source": [
    "Ese **filtro** o kernel (por ejemplo de tamaño 3×3 pixels) **recorre toda la imagen** generalmente de izquierda a derecha y de arriba hasta abajo, para obtener la función convolucionada. La matriz resultante se pasa a la siguiente capa."
   ]
  },
  {
   "cell_type": "markdown",
   "id": "f41c76af",
   "metadata": {
    "id": "f41c76af"
   },
   "source": [
    "![11178fil.gif](attachment:11178fil.gif)"
   ]
  },
  {
   "cell_type": "markdown",
   "id": "3e3d0ede",
   "metadata": {
    "id": "3e3d0ede"
   },
   "source": [
    "Paras las imágenes en **color (RGB)** sea aplicarán en realidad **3 kernels diferentes** (por ejemplo de 3×3) a cada canal. Después, se **suman los resultados** también con un valor de **sesgo (_bias_)** para obtener una única salida al igual que el caso de un solo canal."
   ]
  },
  {
   "cell_type": "markdown",
   "id": "442b85eb",
   "metadata": {
    "id": "442b85eb"
   },
   "source": [
    "![1_ciDgQEjViWLnCbmX-EeSrA.gif](attachment:1_ciDgQEjViWLnCbmX-EeSrA.gif)"
   ]
  },
  {
   "cell_type": "markdown",
   "id": "fbc8f127",
   "metadata": {
    "id": "fbc8f127"
   },
   "source": [
    "A la matriz convolucionada se le aplica una **función de activación** para añadir la **no-linealidad** al igaul que en otros tipos de redes neuronales. La función más utilizada es ___Relu___, donde se filtran todos los píxeles con valores negativos."
   ]
  },
  {
   "cell_type": "markdown",
   "id": "330bbeaf",
   "metadata": {
    "id": "330bbeaf"
   },
   "source": [
    "![image.png](attachment:image.png)"
   ]
  },
  {
   "cell_type": "markdown",
   "id": "16435041",
   "metadata": {
    "id": "16435041"
   },
   "source": [
    "En realidad, **no sólo se utiliza un _kernel_**, si no que se aplican varios kernels como un conjunto de **filtros**. Por lo tanto tendremos **varias matrices de salida** que en su conjunto se conocen como **`feature mapping`**. \n",
    "\n",
    "La **primera convolución** permite a la red que detecte **características básicas**, generalmente como lineas o curvas. Conforme se aumenta el número de capas ocultas convolucionales, los mapas de características reconocen aspectos y patrones más complejos.\n",
    "\n",
    "Al terminar la fase convolucional, cuando se dispone de un conjunto de características o un _fearture mapping_ que representa los rasgos y los atributos más identificativos de los objetos que se deben reconocer, pasamos a **la fase de clasificación** como otros tipos de rdes neuronales, **aplanando el conjunto final de los _features_** mediante una capa llamada **`flatten layer`** que nos permite desarrollar una **red neuronal con capas densas (_fully-connected_)** apartir de ese conjunto de características extraídas.    "
   ]
  },
  {
   "cell_type": "markdown",
   "id": "37326946",
   "metadata": {
    "id": "37326946"
   },
   "source": [
    "![image.png](attachment:image.png)"
   ]
  },
  {
   "cell_type": "markdown",
   "id": "13efeb03",
   "metadata": {
    "id": "13efeb03"
   },
   "source": [
    "Al final de la estructura definida y montada de la red neuronal convolucional, necesitamos que **la capa final tenga los nodos suficientes** para que el modelo acabe clasificando los objetos reconocidos según el número de categorías o clases existentes en el dataset. Este paso se suele aplicar mediante la función **`softmax`** que es equivalente a **`sigmoid`** pero asigna probabilidades (valores entre 0 y 1) a cada clase para un problema de **clasificación multi-clase**. "
   ]
  },
  {
   "cell_type": "markdown",
   "id": "0fec4542",
   "metadata": {
    "id": "0fec4542"
   },
   "source": [
    "![image.png](attachment:image.png)"
   ]
  },
  {
   "cell_type": "markdown",
   "id": "5c8c7407",
   "metadata": {
    "id": "5c8c7407"
   },
   "source": [
    "### Ejemplo de reconocimiento de numeros manuscritos (MNIST)"
   ]
  },
  {
   "cell_type": "markdown",
   "id": "8346210a",
   "metadata": {
    "id": "8346210a"
   },
   "source": [
    "Vamos a realizar un ejercicio para desarrollar un clasificador que **sea capaz de recibir una imágen de un número escrito a mano y decidir a qué dígito corresponde**. El dataset **[MNIST](http://yann.lecun.com/exdb/mnist/)** contiene una serie de imágenes de números manuscritos. Por defecto al cargarse mediante librería _keras_, se dispone de un conjunto de datos de **60.000 imágenes** en **escala de grises** como conjunto de **entrenamiento** de tamaño **28x28** píxeles para los **10 dígitos**, además de un conjunto de **prueba** de **10.000 imágenes**."
   ]
  },
  {
   "cell_type": "code",
   "execution_count": 1,
   "id": "1d4a1419",
   "metadata": {
    "id": "1d4a1419"
   },
   "outputs": [],
   "source": [
    "# importamos las librerías necesarias \n",
    "import pandas as pd\n",
    "import seaborn as sns\n",
    "import matplotlib.pyplot as plt\n",
    "import numpy as np\n",
    "%matplotlib inline"
   ]
  },
  {
   "cell_type": "code",
   "execution_count": 2,
   "id": "14d67e37",
   "metadata": {
    "id": "14d67e37"
   },
   "outputs": [],
   "source": [
    "# Modificamos los parámetros de los gráficos en matplotlib\n",
    "from matplotlib.pyplot import rcParams\n",
    "\n",
    "rcParams['figure.figsize'] = 12, 6 # el primer dígito es el ancho y el segundo el alto\n",
    "rcParams[\"font.weight\"] = \"bold\"\n",
    "rcParams[\"font.size\"] = 10\n",
    "rcParams[\"axes.labelweight\"] = \"bold\""
   ]
  },
  {
   "cell_type": "markdown",
   "id": "94808235",
   "metadata": {
    "id": "94808235"
   },
   "source": [
    "### Cargar los datos (imágenes)"
   ]
  },
  {
   "cell_type": "code",
   "execution_count": 3,
   "id": "c2d8161e",
   "metadata": {
    "id": "c2d8161e",
    "outputId": "1b06fe51-7a6e-4214-a492-07dbdec0041e"
   },
   "outputs": [],
   "source": [
    "# Cargar el dataset desde la librería keras\n",
    "from keras.datasets import mnist\n",
    "\n",
    "(X_train, y_train), (X_test, y_test) = mnist.load_data()"
   ]
  },
  {
   "cell_type": "code",
   "execution_count": 4,
   "id": "437f8cf7",
   "metadata": {
    "id": "437f8cf7",
    "outputId": "8e6dc122-7478-4f73-b2d3-e5e05945abb2"
   },
   "outputs": [
    {
     "data": {
      "text/plain": [
       "array([[[0, 0, 0, ..., 0, 0, 0],\n",
       "        [0, 0, 0, ..., 0, 0, 0],\n",
       "        [0, 0, 0, ..., 0, 0, 0],\n",
       "        ...,\n",
       "        [0, 0, 0, ..., 0, 0, 0],\n",
       "        [0, 0, 0, ..., 0, 0, 0],\n",
       "        [0, 0, 0, ..., 0, 0, 0]],\n",
       "\n",
       "       [[0, 0, 0, ..., 0, 0, 0],\n",
       "        [0, 0, 0, ..., 0, 0, 0],\n",
       "        [0, 0, 0, ..., 0, 0, 0],\n",
       "        ...,\n",
       "        [0, 0, 0, ..., 0, 0, 0],\n",
       "        [0, 0, 0, ..., 0, 0, 0],\n",
       "        [0, 0, 0, ..., 0, 0, 0]],\n",
       "\n",
       "       [[0, 0, 0, ..., 0, 0, 0],\n",
       "        [0, 0, 0, ..., 0, 0, 0],\n",
       "        [0, 0, 0, ..., 0, 0, 0],\n",
       "        ...,\n",
       "        [0, 0, 0, ..., 0, 0, 0],\n",
       "        [0, 0, 0, ..., 0, 0, 0],\n",
       "        [0, 0, 0, ..., 0, 0, 0]],\n",
       "\n",
       "       ...,\n",
       "\n",
       "       [[0, 0, 0, ..., 0, 0, 0],\n",
       "        [0, 0, 0, ..., 0, 0, 0],\n",
       "        [0, 0, 0, ..., 0, 0, 0],\n",
       "        ...,\n",
       "        [0, 0, 0, ..., 0, 0, 0],\n",
       "        [0, 0, 0, ..., 0, 0, 0],\n",
       "        [0, 0, 0, ..., 0, 0, 0]],\n",
       "\n",
       "       [[0, 0, 0, ..., 0, 0, 0],\n",
       "        [0, 0, 0, ..., 0, 0, 0],\n",
       "        [0, 0, 0, ..., 0, 0, 0],\n",
       "        ...,\n",
       "        [0, 0, 0, ..., 0, 0, 0],\n",
       "        [0, 0, 0, ..., 0, 0, 0],\n",
       "        [0, 0, 0, ..., 0, 0, 0]],\n",
       "\n",
       "       [[0, 0, 0, ..., 0, 0, 0],\n",
       "        [0, 0, 0, ..., 0, 0, 0],\n",
       "        [0, 0, 0, ..., 0, 0, 0],\n",
       "        ...,\n",
       "        [0, 0, 0, ..., 0, 0, 0],\n",
       "        [0, 0, 0, ..., 0, 0, 0],\n",
       "        [0, 0, 0, ..., 0, 0, 0]]], dtype=uint8)"
      ]
     },
     "execution_count": 4,
     "metadata": {},
     "output_type": "execute_result"
    }
   ],
   "source": [
    "# Consultar los registros del DataFrame\n",
    "X_train"
   ]
  },
  {
   "cell_type": "code",
   "execution_count": 5,
   "id": "a7f0f119",
   "metadata": {
    "id": "a7f0f119",
    "outputId": "fcbdede2-5bc0-4505-e631-59f396788902"
   },
   "outputs": [
    {
     "name": "stdout",
     "output_type": "stream",
     "text": [
      "El tipo de datos de entrada (training):  <class 'numpy.ndarray'>\n",
      "La dimensión de datos de entrada (training): 3\n",
      "El tamaño de datos de entrada (training): (60000, 28, 28)\n"
     ]
    }
   ],
   "source": [
    "print(\"El tipo de datos de entrada (training): \", type(X_train))\n",
    "print(\"La dimensión de datos de entrada (training):\", X_train.ndim)\n",
    "print(\"El tamaño de datos de entrada (training):\", X_train.shape)"
   ]
  },
  {
   "cell_type": "code",
   "execution_count": 6,
   "id": "b570563b",
   "metadata": {
    "id": "b570563b",
    "outputId": "1bdc390c-dac5-4321-c48d-8f7ec780229c"
   },
   "outputs": [
    {
     "name": "stdout",
     "output_type": "stream",
     "text": [
      "El tipo de datos de entrada (test):  <class 'numpy.ndarray'>\n",
      "La dimensión de datos de entrada (test): 3\n",
      "El tamaño de datos de entrada (test): (10000, 28, 28)\n"
     ]
    }
   ],
   "source": [
    "print(\"El tipo de datos de entrada (test): \", type(X_test))\n",
    "print(\"La dimensión de datos de entrada (test):\", X_test.ndim)\n",
    "print(\"El tamaño de datos de entrada (test):\", X_test.shape)"
   ]
  },
  {
   "cell_type": "markdown",
   "id": "fcbc8759",
   "metadata": {
    "id": "fcbc8759"
   },
   "source": [
    "Las imágenes son 28x28 = 784 píxeles en escala de grises (negro y blanco)"
   ]
  },
  {
   "cell_type": "code",
   "execution_count": 7,
   "id": "a7c67831",
   "metadata": {
    "id": "a7c67831",
    "outputId": "ca733385-6bb4-4ea9-d83d-6baffecebe83"
   },
   "outputs": [
    {
     "data": {
      "text/plain": [
       "array([[  0,   0,   0,   0,   0,   0,   0,   0,   0,   0,   0,   0,   0,\n",
       "          0,   0,   0,   0,   0,   0,   0,   0,   0,   0,   0,   0,   0,\n",
       "          0,   0],\n",
       "       [  0,   0,   0,   0,   0,   0,   0,   0,   0,   0,   0,   0,   0,\n",
       "          0,   0,   0,   0,   0,   0,   0,   0,   0,   0,   0,   0,   0,\n",
       "          0,   0],\n",
       "       [  0,   0,   0,   0,   0,   0,   0,   0,   0,   0,   0,   0,   0,\n",
       "          0,   0,   0,   0,   0,   0,   0,   0,   0,   0,   0,   0,   0,\n",
       "          0,   0],\n",
       "       [  0,   0,   0,   0,   0,   0,   0,   0,   0,   0,   0,   0,   0,\n",
       "          0,   0,   0,   0,   0,   0,   0,   0,   0,   0,   0,   0,   0,\n",
       "          0,   0],\n",
       "       [  0,   0,   0,   0,   0,   0,   0,   0,   0,   0,   0,   0,   0,\n",
       "          0,   0,  51, 159, 253, 159,  50,   0,   0,   0,   0,   0,   0,\n",
       "          0,   0],\n",
       "       [  0,   0,   0,   0,   0,   0,   0,   0,   0,   0,   0,   0,   0,\n",
       "          0,  48, 238, 252, 252, 252, 237,   0,   0,   0,   0,   0,   0,\n",
       "          0,   0],\n",
       "       [  0,   0,   0,   0,   0,   0,   0,   0,   0,   0,   0,   0,   0,\n",
       "         54, 227, 253, 252, 239, 233, 252,  57,   6,   0,   0,   0,   0,\n",
       "          0,   0],\n",
       "       [  0,   0,   0,   0,   0,   0,   0,   0,   0,   0,   0,  10,  60,\n",
       "        224, 252, 253, 252, 202,  84, 252, 253, 122,   0,   0,   0,   0,\n",
       "          0,   0],\n",
       "       [  0,   0,   0,   0,   0,   0,   0,   0,   0,   0,   0, 163, 252,\n",
       "        252, 252, 253, 252, 252,  96, 189, 253, 167,   0,   0,   0,   0,\n",
       "          0,   0],\n",
       "       [  0,   0,   0,   0,   0,   0,   0,   0,   0,   0,  51, 238, 253,\n",
       "        253, 190, 114, 253, 228,  47,  79, 255, 168,   0,   0,   0,   0,\n",
       "          0,   0],\n",
       "       [  0,   0,   0,   0,   0,   0,   0,   0,   0,  48, 238, 252, 252,\n",
       "        179,  12,  75, 121,  21,   0,   0, 253, 243,  50,   0,   0,   0,\n",
       "          0,   0],\n",
       "       [  0,   0,   0,   0,   0,   0,   0,   0,  38, 165, 253, 233, 208,\n",
       "         84,   0,   0,   0,   0,   0,   0, 253, 252, 165,   0,   0,   0,\n",
       "          0,   0],\n",
       "       [  0,   0,   0,   0,   0,   0,   0,   7, 178, 252, 240,  71,  19,\n",
       "         28,   0,   0,   0,   0,   0,   0, 253, 252, 195,   0,   0,   0,\n",
       "          0,   0],\n",
       "       [  0,   0,   0,   0,   0,   0,   0,  57, 252, 252,  63,   0,   0,\n",
       "          0,   0,   0,   0,   0,   0,   0, 253, 252, 195,   0,   0,   0,\n",
       "          0,   0],\n",
       "       [  0,   0,   0,   0,   0,   0,   0, 198, 253, 190,   0,   0,   0,\n",
       "          0,   0,   0,   0,   0,   0,   0, 255, 253, 196,   0,   0,   0,\n",
       "          0,   0],\n",
       "       [  0,   0,   0,   0,   0,   0,  76, 246, 252, 112,   0,   0,   0,\n",
       "          0,   0,   0,   0,   0,   0,   0, 253, 252, 148,   0,   0,   0,\n",
       "          0,   0],\n",
       "       [  0,   0,   0,   0,   0,   0,  85, 252, 230,  25,   0,   0,   0,\n",
       "          0,   0,   0,   0,   0,   7, 135, 253, 186,  12,   0,   0,   0,\n",
       "          0,   0],\n",
       "       [  0,   0,   0,   0,   0,   0,  85, 252, 223,   0,   0,   0,   0,\n",
       "          0,   0,   0,   0,   7, 131, 252, 225,  71,   0,   0,   0,   0,\n",
       "          0,   0],\n",
       "       [  0,   0,   0,   0,   0,   0,  85, 252, 145,   0,   0,   0,   0,\n",
       "          0,   0,   0,  48, 165, 252, 173,   0,   0,   0,   0,   0,   0,\n",
       "          0,   0],\n",
       "       [  0,   0,   0,   0,   0,   0,  86, 253, 225,   0,   0,   0,   0,\n",
       "          0,   0, 114, 238, 253, 162,   0,   0,   0,   0,   0,   0,   0,\n",
       "          0,   0],\n",
       "       [  0,   0,   0,   0,   0,   0,  85, 252, 249, 146,  48,  29,  85,\n",
       "        178, 225, 253, 223, 167,  56,   0,   0,   0,   0,   0,   0,   0,\n",
       "          0,   0],\n",
       "       [  0,   0,   0,   0,   0,   0,  85, 252, 252, 252, 229, 215, 252,\n",
       "        252, 252, 196, 130,   0,   0,   0,   0,   0,   0,   0,   0,   0,\n",
       "          0,   0],\n",
       "       [  0,   0,   0,   0,   0,   0,  28, 199, 252, 252, 253, 252, 252,\n",
       "        233, 145,   0,   0,   0,   0,   0,   0,   0,   0,   0,   0,   0,\n",
       "          0,   0],\n",
       "       [  0,   0,   0,   0,   0,   0,   0,  25, 128, 252, 253, 252, 141,\n",
       "         37,   0,   0,   0,   0,   0,   0,   0,   0,   0,   0,   0,   0,\n",
       "          0,   0],\n",
       "       [  0,   0,   0,   0,   0,   0,   0,   0,   0,   0,   0,   0,   0,\n",
       "          0,   0,   0,   0,   0,   0,   0,   0,   0,   0,   0,   0,   0,\n",
       "          0,   0],\n",
       "       [  0,   0,   0,   0,   0,   0,   0,   0,   0,   0,   0,   0,   0,\n",
       "          0,   0,   0,   0,   0,   0,   0,   0,   0,   0,   0,   0,   0,\n",
       "          0,   0],\n",
       "       [  0,   0,   0,   0,   0,   0,   0,   0,   0,   0,   0,   0,   0,\n",
       "          0,   0,   0,   0,   0,   0,   0,   0,   0,   0,   0,   0,   0,\n",
       "          0,   0],\n",
       "       [  0,   0,   0,   0,   0,   0,   0,   0,   0,   0,   0,   0,   0,\n",
       "          0,   0,   0,   0,   0,   0,   0,   0,   0,   0,   0,   0,   0,\n",
       "          0,   0]], dtype=uint8)"
      ]
     },
     "execution_count": 7,
     "metadata": {},
     "output_type": "execute_result"
    }
   ],
   "source": [
    "# La segunda imágen del conjunto de entrenamiento\n",
    "X_train[1]"
   ]
  },
  {
   "cell_type": "markdown",
   "id": "443efc00",
   "metadata": {
    "id": "443efc00"
   },
   "source": [
    "Podemos utilizar el método `imshow` de _matplotly_ para hacer una visualización rápida y comparar la imágen con su valor asociado en las etiquetas de salida:"
   ]
  },
  {
   "cell_type": "code",
   "execution_count": 8,
   "id": "57f05027",
   "metadata": {
    "id": "57f05027",
    "outputId": "fdeade13-b94c-4ad5-a12a-106647e8477b"
   },
   "outputs": [
    {
     "name": "stdout",
     "output_type": "stream",
     "text": [
      "La etiqueta asociada a este dígito es:  0\n"
     ]
    },
    {
     "data": {
      "image/png": "[encoded data removed]",
      "text/plain": [
       "<Figure size 864x432 with 1 Axes>"
      ]
     },
     "metadata": {
      "needs_background": "light"
     },
     "output_type": "display_data"
    }
   ],
   "source": [
    "plt.imshow(X_train[100], cmap='gray')\n",
    "print(\"La etiqueta asociada a este dígito es: \", y_train[1])"
   ]
  },
  {
   "cell_type": "markdown",
   "id": "f2be00ca",
   "metadata": {
    "id": "f2be00ca"
   },
   "source": [
    "Cada carácter ocupa un \"_byte_\" que se forma por ocho \"_bits_\": **$2^8=256$** El valor de cada píxel varía de _0_ a _255_.  \n",
    "El tipo __uint8__ en _numpy_ significa: `Unsigned integer (0 to 255)`"
   ]
  },
  {
   "cell_type": "code",
   "execution_count": 9,
   "id": "0988a05c",
   "metadata": {
    "id": "0988a05c",
    "outputId": "6cb04c53-6a42-4829-dfe6-ea9356fe2320"
   },
   "outputs": [
    {
     "name": "stdout",
     "output_type": "stream",
     "text": [
      "uint8\n",
      "0\n",
      "255\n"
     ]
    }
   ],
   "source": [
    "print(X_train.dtype)\n",
    "print(X_train.min())\n",
    "print(X_train.max())"
   ]
  },
  {
   "cell_type": "markdown",
   "id": "4b651fed",
   "metadata": {
    "id": "4b651fed"
   },
   "source": [
    "Las salidas del modelo serían los dígitos asociados a cada imágen:"
   ]
  },
  {
   "cell_type": "code",
   "execution_count": 10,
   "id": "9e5ac57d",
   "metadata": {
    "id": "9e5ac57d",
    "outputId": "a51fea2e-b7f1-4e2a-fed1-2633adbe931f"
   },
   "outputs": [
    {
     "data": {
      "text/plain": [
       "array([7, 2, 1, ..., 4, 5, 6], dtype=uint8)"
      ]
     },
     "execution_count": 10,
     "metadata": {},
     "output_type": "execute_result"
    }
   ],
   "source": [
    "y_test"
   ]
  },
  {
   "cell_type": "code",
   "execution_count": 11,
   "id": "7243b90b",
   "metadata": {
    "id": "7243b90b",
    "outputId": "e4dba06a-3e91-4085-caab-35f3124a49a8"
   },
   "outputs": [
    {
     "name": "stdout",
     "output_type": "stream",
     "text": [
      "El tipo de datos de salida (training):  <class 'numpy.ndarray'>\n",
      "La dimensión de datos de salida (training): 1\n",
      "El tamaño de datos de salida (training): (60000,)\n"
     ]
    }
   ],
   "source": [
    "print(\"El tipo de datos de salida (training): \", type(y_train))\n",
    "print(\"La dimensión de datos de salida (training):\", y_train.ndim)\n",
    "print(\"El tamaño de datos de salida (training):\", y_train.shape)"
   ]
  },
  {
   "cell_type": "markdown",
   "id": "f31255af",
   "metadata": {
    "id": "f31255af"
   },
   "source": [
    "Consultamos las **frecuencias de los dígitos**. Es muy importante que el modelo se entrene con un **conjunto equilibrado** de datos que idealmente tenga una **representación igual** para cada clase."
   ]
  },
  {
   "cell_type": "code",
   "execution_count": 12,
   "id": "96900243",
   "metadata": {
    "id": "96900243",
    "outputId": "6e852a65-f7a6-4e9c-d120-f3547bafa177"
   },
   "outputs": [
    {
     "data": {
      "text/plain": [
       "<AxesSubplot:>"
      ]
     },
     "execution_count": 12,
     "metadata": {},
     "output_type": "execute_result"
    },
    {
     "data": {
      "image/png": "[encoded data removed]",
      "text/plain": [
       "<Figure size 864x432 with 1 Axes>"
      ]
     },
     "metadata": {
      "needs_background": "light"
     },
     "output_type": "display_data"
    }
   ],
   "source": [
    "# El histograma de los dígitos presentes en el dataset\n",
    "pd.Series(y_train).hist(bins=100)"
   ]
  },
  {
   "cell_type": "markdown",
   "id": "bfcf0153",
   "metadata": {
    "id": "bfcf0153"
   },
   "source": [
    "Para que los datos utilizados en la creación del modelo tengan **una escala estándar**, procedemos primero a **normalizar los datos de entrada** de esta manera:\n"
   ]
  },
  {
   "cell_type": "code",
   "execution_count": 13,
   "id": "3617cf90",
   "metadata": {
    "id": "3617cf90"
   },
   "outputs": [],
   "source": [
    "# Vamos a escalar los valores de nuestras arrays para que se convierten en valores entre 0 y 1\n",
    "X_train_norm = X_train / 255\n",
    "X_test_norm = X_test / 255\n"
   ]
  },
  {
   "cell_type": "code",
   "execution_count": 14,
   "id": "83f50f27",
   "metadata": {
    "id": "83f50f27",
    "outputId": "edeab387-4078-4e0b-b2f9-f7b60317e44f"
   },
   "outputs": [
    {
     "data": {
      "text/plain": [
       "array([0.        , 0.01176471, 0.07058824, 0.49411765, 0.53333333,\n",
       "       0.68627451, 0.10196078, 0.65098039, 1.        , 0.96862745,\n",
       "       0.49803922, 0.11764706, 0.14117647, 0.36862745, 0.60392157,\n",
       "       0.66666667, 0.99215686, 0.88235294, 0.6745098 , 0.94901961,\n",
       "       0.76470588, 0.25098039, 0.19215686, 0.93333333, 0.98431373,\n",
       "       0.36470588, 0.32156863, 0.21960784, 0.15294118, 0.85882353,\n",
       "       0.77647059, 0.71372549, 0.94509804, 0.31372549, 0.61176471,\n",
       "       0.41960784, 0.80392157, 0.04313725, 0.16862745, 0.05490196,\n",
       "       0.00392157, 0.35294118, 0.54509804, 0.74509804, 0.00784314,\n",
       "       0.2745098 , 0.1372549 , 0.62745098, 0.42352941, 0.31764706,\n",
       "       0.94117647, 0.46666667, 0.09803922, 0.17647059, 0.72941176,\n",
       "       0.58823529, 0.10588235, 0.0627451 , 0.98823529, 0.73333333,\n",
       "       0.97647059, 0.18039216, 0.50980392, 0.71764706, 0.81176471,\n",
       "       0.58039216, 0.89803922, 0.98039216, 0.09411765, 0.44705882,\n",
       "       0.86666667, 0.78823529, 0.30588235, 0.09019608, 0.25882353,\n",
       "       0.83529412, 0.67058824, 0.03529412, 0.21568627, 0.88627451,\n",
       "       0.95686275, 0.52156863, 0.83137255, 0.52941176, 0.51764706,\n",
       "       0.2       , 0.62352941, 0.19607843, 0.18823529, 0.92941176,\n",
       "       0.21176471, 0.89019608, 0.9372549 , 0.91372549, 0.22352941,\n",
       "       0.02352941, 0.03921569, 0.23529412, 0.87843137, 0.79215686,\n",
       "       0.32941176, 0.47843137, 0.63921569, 0.37647059, 0.74117647,\n",
       "       0.65490196, 0.89411765, 0.18431373, 0.30980392, 0.65882353,\n",
       "       0.70196078, 0.04705882, 0.29411765, 0.4745098 , 0.08235294,\n",
       "       0.95294118, 0.14901961, 0.64705882, 0.81568627, 0.02745098,\n",
       "       0.69803922, 0.27843137, 0.0745098 , 0.10980392, 0.24705882,\n",
       "       0.76862745, 0.29803922, 0.96470588, 0.43921569, 0.33333333,\n",
       "       0.90196078, 0.8745098 , 0.51372549, 0.56862745, 0.67843137,\n",
       "       0.3372549 , 0.63529412, 0.57254902, 0.11372549, 0.84313725,\n",
       "       0.78039216, 0.50196078, 0.55294118, 0.14509804, 0.2627451 ,\n",
       "       0.90980392, 0.24313725, 0.47058824, 0.70588235, 0.6       ,\n",
       "       0.82352941, 0.15686275, 0.8627451 , 0.99607843, 0.87058824,\n",
       "       0.49019608, 0.96078431, 0.90588235, 0.84705882, 0.97254902,\n",
       "       0.35686275, 0.45490196, 0.56470588, 0.91764706, 0.56078431,\n",
       "       0.01960784, 0.69411765, 0.38431373, 0.4       , 0.6627451 ,\n",
       "       0.5372549 , 0.48627451, 0.26666667, 0.9254902 , 0.82745098,\n",
       "       0.12156863, 0.03137255, 0.60784314, 0.07843137, 0.92156863,\n",
       "       0.1254902 , 0.40784314, 0.72156863, 0.05882353, 0.75686275,\n",
       "       0.59215686, 0.34901961, 0.54901961, 0.44313725, 0.34117647,\n",
       "       0.01568627, 0.25490196, 0.36078431, 0.69019608, 0.50588235,\n",
       "       0.08627451, 0.77254902, 0.30196078, 0.85098039, 0.54117647,\n",
       "       0.16470588, 0.75294118, 0.42745098, 0.41568627, 0.85490196,\n",
       "       0.57647059, 0.05098039, 0.39215686, 0.12941176, 0.59607843,\n",
       "       0.70980392, 0.22745098, 0.61568627, 0.43137255, 0.76078431,\n",
       "       0.20784314, 0.45882353, 0.23137255, 0.79607843, 0.06666667,\n",
       "       0.78431373, 0.28235294, 0.41176471, 0.34509804, 0.28627451,\n",
       "       0.74901961, 0.58431373, 0.68235294, 0.61960784, 0.8       ,\n",
       "       0.29019608, 0.48235294, 0.20392157, 0.17254902, 0.23921569,\n",
       "       0.5254902 , 0.7372549 , 0.3254902 , 0.40392157, 0.83921569,\n",
       "       0.81960784, 0.7254902 , 0.80784314, 0.43529412, 0.4627451 ,\n",
       "       0.13333333, 0.16078431, 0.64313725, 0.27058824, 0.38823529,\n",
       "       0.55686275, 0.39607843, 0.45098039, 0.37254902, 0.63137255,\n",
       "       0.38039216])"
      ]
     },
     "execution_count": 14,
     "metadata": {},
     "output_type": "execute_result"
    }
   ],
   "source": [
    "# Valores normalizados\n",
    "pd.Series(X_train_norm.flatten()).unique()"
   ]
  },
  {
   "cell_type": "markdown",
   "id": "d6c0decb",
   "metadata": {
    "id": "d6c0decb"
   },
   "source": [
    "Ahora tenemos que tratar la salida que son dígitos de 0 a 9"
   ]
  },
  {
   "cell_type": "code",
   "execution_count": 15,
   "id": "4ff89d1b",
   "metadata": {
    "id": "4ff89d1b",
    "outputId": "aba9e32d-8d52-436a-c0db-e7cd089b85bf"
   },
   "outputs": [
    {
     "data": {
      "text/plain": [
       "array([5, 0, 4, 1, 9, 2, 3, 6, 7, 8], dtype=uint8)"
      ]
     },
     "execution_count": 15,
     "metadata": {},
     "output_type": "execute_result"
    }
   ],
   "source": [
    "pd.Series(y_train).unique()"
   ]
  },
  {
   "cell_type": "markdown",
   "id": "2aa33dea",
   "metadata": {
    "id": "2aa33dea"
   },
   "source": [
    "Debemos **estandarizar** también estos valores para la **variable objetivo**. Sin embargo, no queremos que tomen valores tipo `float` con decimales, porque **la salida de nuestra red sería una probabilidad para cada dígito o cada clase**. tenemos que construir nuestra red neuronal con **10 neuronas en la capa de salida**.  \n",
    "\n",
    "El algoritmo no puede comparar un vector de 10 valores con un solo valor objetivo. Para ello, **convertimos cada valor objetivo en un vector de longitud 10**, usando la técnica de `One-hot encoding`:\n",
    "\n",
    "- El valor `0` de la variable objetivo se convierte en `[1, 0, 0, 0, 0, 0, 0, 0, 0, 0]`  \n",
    "- El valor `1` de la variable objetivo se convierte en `[0, 1, 0, 0, 0, 0, 0, 0, 0, 0]`  \n",
    "- El valor `2` de la variable objetivo se convierte en `[0, 0, 1, 0, 0, 0, 0, 0, 0, 0]`  \n",
    "- ...\n",
    "- El valor `9` de la variable objetivo se convierte en `[0, 0, 0, 0, 0, 0, 0, 0, 0, 1]`  "
   ]
  },
  {
   "cell_type": "code",
   "execution_count": 16,
   "id": "30ddf917",
   "metadata": {
    "id": "30ddf917",
    "outputId": "4bc68930-0e84-449f-d8bc-278a50d1e5ae"
   },
   "outputs": [
    {
     "data": {
      "text/plain": [
       "array([1, 0, 0, 0, 0, 0, 0, 0, 0, 0], dtype=uint8)"
      ]
     },
     "execution_count": 16,
     "metadata": {},
     "output_type": "execute_result"
    }
   ],
   "source": [
    "# La codificación one-hot se puede realizar fácilmente con las utilidades proporcionadas por Keras\n",
    "from keras.utils import to_categorical\n",
    "\n",
    "to_categorical(y_train, dtype='uint8')[1]"
   ]
  },
  {
   "cell_type": "code",
   "execution_count": 17,
   "id": "d2b80d11",
   "metadata": {
    "id": "d2b80d11",
    "outputId": "97853fd6-d3c9-4776-9797-dd80ffaf577d"
   },
   "outputs": [
    {
     "name": "stdout",
     "output_type": "stream",
     "text": [
      "Etiqueta de la segunda imágen:  0\n",
      "Etiqueta normalizada de la segunda imágen:  [1 0 0 0 0 0 0 0 0 0]\n"
     ]
    }
   ],
   "source": [
    "# La codificación one-hot se puede realizar fácilmente con las utilidades proporcionadas por Keras\n",
    "from keras.utils import to_categorical\n",
    "\n",
    "y_train_norm = to_categorical(y_train, dtype='uint8')\n",
    "y_test_norm = to_categorical(y_test, dtype='uint8')\n",
    "\n",
    "print(\"Etiqueta de la segunda imágen: \", y_train[1])\n",
    "print(\"Etiqueta normalizada de la segunda imágen: \", y_train_norm[1])"
   ]
  },
  {
   "cell_type": "markdown",
   "id": "8202ebc9",
   "metadata": {
    "id": "8202ebc9"
   },
   "source": [
    "Ahora necesitamos **redimensionar los conjuntos de datos de entrada (X_train y X_test)** a la forma que espera nuestra red de las imágenes.\n",
    "- El **primer** número es el **número de imágenes** (60.000 para X_train y 10.000 para X_test).  \n",
    "- Después viene la forma de **cada imagen (28x28)**.  \n",
    "- El último número habla de **la escala de los valores de cada píxel**. En este caso sería 1, lo que significa que las imágenes están en **escala gris** (negro y blanco)."
   ]
  },
  {
   "cell_type": "code",
   "execution_count": 18,
   "id": "7345ea61",
   "metadata": {
    "id": "7345ea61",
    "outputId": "f6ffa7ad-fa38-4ef4-fd0b-ca66656753dc"
   },
   "outputs": [
    {
     "name": "stdout",
     "output_type": "stream",
     "text": [
      "El tamaño de datos de entrada (training): (60000, 28, 28, 1)\n",
      "El tamaño de datos de entrada (test): (10000, 28, 28, 1)\n",
      "El tamaño de entrada a la red: (28, 28, 1)\n"
     ]
    }
   ],
   "source": [
    "# Vamos a redimensionar los datos normalizados de entrada\n",
    "x_train = X_train_norm.reshape(len(X_train_norm),28,28,1)\n",
    "x_test = X_test_norm.reshape(len(X_test_norm),28,28,1)\n",
    "\n",
    "print(\"El tamaño de datos de entrada (training):\", x_train.shape)\n",
    "print(\"El tamaño de datos de entrada (test):\", x_test.shape)\n",
    "\n",
    "print(\"El tamaño de entrada a la red:\", x_train[0].shape)"
   ]
  },
  {
   "cell_type": "markdown",
   "id": "105421ab",
   "metadata": {
    "id": "105421ab"
   },
   "source": [
    "Antes de desarrollar una **red neuronal convolucional (CNN)**, intentamos crear una **red neuronal profunda (DNN)** sin la fase de convolución y con las capas densas utilizadas en otros problemas distintos que reconocimiento de imágenes."
   ]
  },
  {
   "cell_type": "code",
   "execution_count": 19,
   "id": "458e6153",
   "metadata": {
    "id": "458e6153",
    "outputId": "0ce7edac-dc7b-4fff-d18d-f4c000a614a4"
   },
   "outputs": [
    {
     "name": "stdout",
     "output_type": "stream",
     "text": [
      "Model: \"sequential\"\n",
      "_________________________________________________________________\n",
      " Layer (type)                Output Shape              Param #   \n",
      "=================================================================\n",
      " flatten (Flatten)           (None, 784)               0         \n",
      "                                                                 \n",
      " dense (Dense)               (None, 100)               78500     \n",
      "                                                                 \n",
      " dense_1 (Dense)             (None, 200)               20200     \n",
      "                                                                 \n",
      " dense_2 (Dense)             (None, 100)               20100     \n",
      "                                                                 \n",
      " dense_3 (Dense)             (None, 10)                1010      \n",
      "                                                                 \n",
      "=================================================================\n",
      "Total params: 119,810\n",
      "Trainable params: 119,810\n",
      "Non-trainable params: 0\n",
      "_________________________________________________________________\n",
      "Epoch 1/3\n",
      "60/60 [==============================] - 6s 58ms/step - loss: 0.2571 - accuracy: 0.5561 - val_loss: 0.0963 - val_accuracy: 0.8613\n",
      "Epoch 2/3\n",
      "60/60 [==============================] - 3s 50ms/step - loss: 0.0700 - accuracy: 0.8948 - val_loss: 0.0515 - val_accuracy: 0.9216\n",
      "Epoch 3/3\n",
      "60/60 [==============================] - 2s 39ms/step - loss: 0.0450 - accuracy: 0.9313 - val_loss: 0.0385 - val_accuracy: 0.9399\n",
      "313/313 [==============================] - 2s 7ms/step\n",
      "Acuuracy: 0.9364\n",
      "AUC: 0.9648690321858512\n"
     ]
    },
    {
     "data": {
      "image/png": "[encoded data removed]",
      "text/plain": [
       "<Figure size 1440x432 with 1 Axes>"
      ]
     },
     "metadata": {
      "needs_background": "light"
     },
     "output_type": "display_data"
    },
    {
     "data": {
      "image/png": "[encoded data removed]",
      "text/plain": [
       "<Figure size 1440x432 with 1 Axes>"
      ]
     },
     "metadata": {
      "needs_background": "light"
     },
     "output_type": "display_data"
    }
   ],
   "source": [
    "# importar los módulos, las clases y las funciones a utilizar\n",
    "import random\n",
    "import tensorflow as tf\n",
    "from keras.models import Sequential\n",
    "from keras import Input\n",
    "from keras.layers import Dense, Conv2D, Flatten\n",
    "from sklearn.metrics import accuracy_score, classification_report, roc_curve, roc_auc_score\n",
    "from keras.backend import clear_session\n",
    "\n",
    "# Resetear el estado global de keras\n",
    "clear_session()\n",
    "\n",
    "# Fijar la semilla para conseguir la reproducibilidad de los resultados\n",
    "semilla = 333\n",
    "random.seed(semilla)   # Fijar la semilla a nivel de `python`\n",
    "np.random.seed(semilla)  # Fijar la semilla a nivel de `numpy`  \n",
    "tf.random.set_seed(semilla)  # Fijar la semilla a nivel de `tensorflow`\n",
    "\n",
    "\n",
    "# Declarar el modelo que se va a crear\n",
    "modelo_dnn = Sequential()\n",
    "\n",
    "# Definir la entrada a la red que son imágenes (28,28,1)\n",
    "modelo_dnn.add(Input(shape=x_train[0].shape))\n",
    "\n",
    "# Debemos aplanar la matriz de cada imágen para pasarlos a las capas densas (fully-connected) \n",
    "modelo_dnn.add(Flatten())\n",
    "\n",
    "# Definir las capas ocultas\n",
    "modelo_dnn.add(Dense(100, activation='relu'))\n",
    "modelo_dnn.add(Dense(200, activation='relu'))\n",
    "modelo_dnn.add(Dense(100, activation='relu'))\n",
    "\n",
    "# La capa de salida con el tamaño de la respuesta\n",
    "modelo_dnn.add(Dense(10, activation='softmax'))\n",
    "\n",
    "# Compilar e indicar los ajustes del modelo\n",
    "modelo_dnn.compile(loss='binary_crossentropy', optimizer='Adam', metrics=['accuracy'])\n",
    "\n",
    "# Consultar el resumen del modelo definido\n",
    "modelo_dnn.summary()\n",
    "\n",
    "# Ajustar el modelo a los datos del entrenamiento.\n",
    "registros = modelo_dnn.fit(x_train, y_train_norm, validation_data=(x_test, y_test_norm), epochs=3, batch_size=1000)\n",
    "\n",
    "# Calcular las predicciones para el conjunto de test \n",
    "y_pred_dnn = modelo_dnn.predict(x_test)\n",
    "\n",
    "\n",
    "# Filtrar las predicciones y evaluar el modelo\n",
    "y_pred_dnn_filt = np.where(y_pred_dnn < 0.5, 0, 1)\n",
    "print('Acuuracy:', accuracy_score(y_test_norm, y_pred_dnn_filt))\n",
    "print('AUC:', roc_auc_score(y_test_norm, y_pred_dnn_filt))\n",
    "\n",
    "# Graficamos la evolución de error (Logic Loss)\n",
    "plt.figure(figsize=(20,6))\n",
    "plt.plot(registros.epoch, registros.history['loss'], linewidth=3, label='training Log-Loss')\n",
    "plt.plot(registros.epoch, registros.history['val_loss'], linewidth=3, label='test Log-Loss')\n",
    "plt.xticks(registros.epoch)\n",
    "plt.xlabel('epochs')\n",
    "plt.ylabel('Loss')\n",
    "plt.title('La evolución de error')\n",
    "plt.legend(loc = 'upper right')\n",
    "plt.show()\n",
    "\n",
    "# Graficamos la evolución del porcentaje de acierto (Accuracy)\n",
    "plt.figure(figsize=(20,6))\n",
    "plt.plot(registros.epoch, registros.history['accuracy'], linewidth=3, label='training Accuracy')\n",
    "plt.plot(registros.epoch, registros.history['val_accuracy'], linewidth=3, label='test Accuracy')\n",
    "plt.xticks(registros.epoch)\n",
    "plt.xlabel('epochs')\n",
    "plt.ylabel('Accuracy')\n",
    "plt.title('La evolución del porcentaje de acierto')\n",
    "plt.legend(loc = 'lower right')\n",
    "plt.show()"
   ]
  },
  {
   "cell_type": "markdown",
   "id": "47c9f4a4",
   "metadata": {
    "id": "47c9f4a4"
   },
   "source": [
    "Como se puede ver los resultados son bastante aceptables, como se puede ver el rendimiento para diferentes clases detectadas."
   ]
  },
  {
   "cell_type": "code",
   "execution_count": 20,
   "id": "89371f35",
   "metadata": {
    "id": "89371f35",
    "outputId": "1d7466f6-3dba-4dcf-ad4d-22cb21ee1e54"
   },
   "outputs": [
    {
     "name": "stdout",
     "output_type": "stream",
     "text": [
      "              precision    recall  f1-score   support\n",
      "\n",
      "           0       0.96      0.98      0.97       980\n",
      "           1       0.98      0.98      0.98      1135\n",
      "           2       0.95      0.93      0.94      1032\n",
      "           3       0.93      0.92      0.92      1010\n",
      "           4       0.93      0.95      0.94       982\n",
      "           5       0.94      0.91      0.92       892\n",
      "           6       0.95      0.95      0.95       958\n",
      "           7       0.96      0.93      0.94      1028\n",
      "           8       0.93      0.90      0.92       974\n",
      "           9       0.93      0.92      0.92      1009\n",
      "\n",
      "   micro avg       0.95      0.94      0.94     10000\n",
      "   macro avg       0.95      0.94      0.94     10000\n",
      "weighted avg       0.95      0.94      0.94     10000\n",
      " samples avg       0.94      0.94      0.94     10000\n",
      "\n"
     ]
    },
    {
     "name": "stderr",
     "output_type": "stream",
     "text": [
      "/home/alberto/anaconda3/lib/python3.8/site-packages/sklearn/metrics/_classification.py:1318: UndefinedMetricWarning: Precision and F-score are ill-defined and being set to 0.0 in samples with no predicted labels. Use `zero_division` parameter to control this behavior.\n",
      "  _warn_prf(average, modifier, msg_start, len(result))\n"
     ]
    }
   ],
   "source": [
    "print(classification_report(y_test_norm, y_pred_dnn_filt))"
   ]
  },
  {
   "cell_type": "markdown",
   "id": "4ac27ef4",
   "metadata": {
    "id": "4ac27ef4"
   },
   "source": [
    "Ahora creamos una red neuronal con **capas convolucionales**"
   ]
  },
  {
   "cell_type": "code",
   "execution_count": 21,
   "id": "595f6f83",
   "metadata": {
    "id": "595f6f83",
    "outputId": "d88b2d6a-827d-4aa6-f773-846f1bfd92d8"
   },
   "outputs": [
    {
     "name": "stdout",
     "output_type": "stream",
     "text": [
      "Model: \"sequential\"\n",
      "_________________________________________________________________\n",
      " Layer (type)                Output Shape              Param #   \n",
      "=================================================================\n",
      " conv2d (Conv2D)             (None, 25, 25, 10)        170       \n",
      "                                                                 \n",
      " flatten (Flatten)           (None, 6250)              0         \n",
      "                                                                 \n",
      " dense (Dense)               (None, 50)                312550    \n",
      "                                                                 \n",
      " dense_1 (Dense)             (None, 10)                510       \n",
      "                                                                 \n",
      "=================================================================\n",
      "Total params: 313,230\n",
      "Trainable params: 313,230\n",
      "Non-trainable params: 0\n",
      "_________________________________________________________________\n",
      "Epoch 1/3\n",
      "60/60 [==============================] - 16s 236ms/step - loss: 0.2285 - accuracy: 0.6595 - val_loss: 0.0832 - val_accuracy: 0.8961\n",
      "Epoch 2/3\n",
      "60/60 [==============================] - 12s 193ms/step - loss: 0.0653 - accuracy: 0.9133 - val_loss: 0.0494 - val_accuracy: 0.9371\n",
      "Epoch 3/3\n",
      "60/60 [==============================] - 9s 147ms/step - loss: 0.0433 - accuracy: 0.9434 - val_loss: 0.0355 - val_accuracy: 0.9563\n",
      "313/313 [==============================] - 1s 4ms/step\n",
      "Acuuracy: 0.9511\n",
      "AUC: 0.9731926888508191\n"
     ]
    },
    {
     "data": {
      "image/png": "[encoded data removed]",
      "text/plain": [
       "<Figure size 1440x432 with 1 Axes>"
      ]
     },
     "metadata": {
      "needs_background": "light"
     },
     "output_type": "display_data"
    },
    {
     "data": {
      "image/png": "[encoded data removed]",
      "text/plain": [
       "<Figure size 1440x432 with 1 Axes>"
      ]
     },
     "metadata": {
      "needs_background": "light"
     },
     "output_type": "display_data"
    }
   ],
   "source": [
    "# importar los módulos, las clases y las funciones a utilizar\n",
    "import random\n",
    "import tensorflow as tf\n",
    "from keras.models import Sequential\n",
    "from keras import Input\n",
    "from keras.layers import Dense, Conv2D, Flatten\n",
    "from sklearn.metrics import accuracy_score, classification_report, roc_curve, roc_auc_score\n",
    "from keras.backend import clear_session\n",
    "\n",
    "# Resetear el estado global de keras\n",
    "clear_session()\n",
    "\n",
    "# Fijar la semilla para conseguir la reproducibilidad de los resultados\n",
    "semilla = 333\n",
    "random.seed(semilla)   # Fijar la semilla a nivel de `python`\n",
    "np.random.seed(semilla)  # Fijar la semilla a nivel de `numpy`  \n",
    "tf.random.set_seed(semilla)  # Fijar la semilla a nivel de `tensorflow`\n",
    "\n",
    "\n",
    "# Declarar el modelo que se va a crear\n",
    "modelo_cnn = Sequential()\n",
    "modelo_cnn.add(Input(shape=x_train[0].shape))\n",
    "modelo_cnn.add(Conv2D(filters=10, kernel_size=(4,4), activation='relu'))\n",
    "modelo_cnn.add(Flatten())\n",
    "modelo_cnn.add(Dense(50, activation='relu'))\n",
    "modelo_cnn.add(Dense(10, activation='softmax'))\n",
    "\n",
    "# Compilar e indicar los ajustes del modelo\n",
    "modelo_cnn.compile(loss='binary_crossentropy', optimizer='Adam', metrics=['accuracy'])\n",
    "\n",
    "# Consultar el resumen del modelo definido\n",
    "modelo_cnn.summary()\n",
    "\n",
    "# Ajustar el modelo a los datos del entrenamiento.\n",
    "registros = modelo_cnn.fit(x_train, y_train_norm, validation_data=(x_test, y_test_norm), epochs=3, batch_size=1000)\n",
    "\n",
    "# Calcular las predicciones para el conjunto de test \n",
    "y_pred_cnn = modelo_cnn.predict(x_test)\n",
    "\n",
    "\n",
    "# Filtrar las predicciones y evaluar el modelo\n",
    "y_pred_cnn_filt = np.where(y_pred_cnn < 0.5, 0, 1)\n",
    "print('Acuuracy:', accuracy_score(y_test_norm, y_pred_cnn_filt))\n",
    "print('AUC:', roc_auc_score(y_test_norm, y_pred_cnn_filt))\n",
    "\n",
    "# Graficamos la evolución de error (Logic Loss)\n",
    "plt.figure(figsize=(20,6))\n",
    "plt.plot(registros.epoch, registros.history['loss'], linewidth=3, label='training Log-Loss')\n",
    "plt.plot(registros.epoch, registros.history['val_loss'], linewidth=3, label='test Log-Loss')\n",
    "plt.xticks(registros.epoch)\n",
    "plt.xlabel('epochs')\n",
    "plt.ylabel('Loss')\n",
    "plt.title('La evolución de error')\n",
    "plt.legend(loc = 'upper right')\n",
    "plt.show()\n",
    "\n",
    "# Graficamos la evolución del porcentaje de acierto (Accuracy)\n",
    "plt.figure(figsize=(20,6))\n",
    "plt.plot(registros.epoch, registros.history['accuracy'], linewidth=3, label='training Accuracy')\n",
    "plt.plot(registros.epoch, registros.history['val_accuracy'], linewidth=3, label='test Accuracy')\n",
    "plt.xticks(registros.epoch)\n",
    "plt.xlabel('epochs')\n",
    "plt.ylabel('Accuracy')\n",
    "plt.title('La evolución del porcentaje de acierto')\n",
    "plt.legend(loc = 'lower right')\n",
    "plt.show()"
   ]
  },
  {
   "cell_type": "markdown",
   "id": "f30de97e",
   "metadata": {
    "id": "f30de97e"
   },
   "source": [
    "Primero echamos un vistazo a los parámetros o mejor dicho **los pesos de la red** "
   ]
  },
  {
   "cell_type": "code",
   "execution_count": 22,
   "id": "667bdf5d",
   "metadata": {
    "id": "667bdf5d",
    "outputId": "4fa76473-2870-432e-e538-53c4baa277ec"
   },
   "outputs": [
    {
     "data": {
      "text/plain": [
       "[<tf.Variable 'conv2d/kernel:0' shape=(4, 4, 1, 10) dtype=float32, numpy=\n",
       " array([[[[ 0.2684368 , -0.04390166,  0.01720692,  0.19965388,\n",
       "           -0.10211267, -0.09183601,  0.08057078, -0.06403024,\n",
       "            0.09350482,  0.00411319]],\n",
       " \n",
       "         [[ 0.00803829, -0.05401225,  0.2811248 , -0.05687389,\n",
       "           -0.11774383,  0.14887206,  0.20003463,  0.13053094,\n",
       "           -0.04900989,  0.02424035]],\n",
       " \n",
       "         [[-0.08188203,  0.05385396,  0.05209389, -0.00709304,\n",
       "           -0.05083134, -0.0957577 ,  0.01754453, -0.03108688,\n",
       "            0.01672015,  0.02962081]],\n",
       " \n",
       "         [[-0.15780196, -0.1454722 ,  0.2782023 , -0.04781014,\n",
       "           -0.01911161, -0.1076639 , -0.02518135, -0.12941764,\n",
       "           -0.11262275, -0.1546882 ]]],\n",
       " \n",
       " \n",
       "        [[[ 0.02170249,  0.09788498,  0.07757497,  0.16314791,\n",
       "           -0.22778401,  0.15065023,  0.17399   , -0.04665212,\n",
       "            0.01813672,  0.20191653]],\n",
       " \n",
       "         [[ 0.1477632 ,  0.17081097, -0.07002556,  0.14383283,\n",
       "           -0.15881675, -0.03354888, -0.06203706,  0.21763524,\n",
       "            0.02396689,  0.18446955]],\n",
       " \n",
       "         [[ 0.05895402,  0.06549986, -0.02467989, -0.04162988,\n",
       "            0.10630225,  0.20816725,  0.02527299,  0.08621047,\n",
       "            0.03497665, -0.01580355]],\n",
       " \n",
       "         [[-0.15390624,  0.03248965, -0.1245992 , -0.04310044,\n",
       "           -0.03408051, -0.02175601,  0.13315007, -0.23401219,\n",
       "            0.12255707,  0.10418922]]],\n",
       " \n",
       " \n",
       "        [[[ 0.1314124 , -0.00857432, -0.29464743, -0.02120884,\n",
       "           -0.29897842, -0.09416357,  0.12936457, -0.10128219,\n",
       "           -0.09000284, -0.05739265]],\n",
       " \n",
       "         [[ 0.02967189,  0.0497573 , -0.30208305,  0.12685579,\n",
       "           -0.08804512,  0.00210604,  0.03172248,  0.22087964,\n",
       "            0.16024013, -0.05995499]],\n",
       " \n",
       "         [[-0.14326248,  0.21307902, -0.16755182, -0.03571545,\n",
       "           -0.02628364,  0.22285746,  0.03696105,  0.04637585,\n",
       "            0.04413203,  0.21976599]],\n",
       " \n",
       "         [[-0.36769885, -0.12466508, -0.073166  ,  0.04047179,\n",
       "            0.2716779 ,  0.00692725,  0.03827792, -0.21124573,\n",
       "            0.21279281, -0.13014734]]],\n",
       " \n",
       " \n",
       "        [[[ 0.06139167, -0.02215736,  0.01126118,  0.02797639,\n",
       "           -0.16433495,  0.02913473, -0.1696307 , -0.08790729,\n",
       "            0.20982753, -0.03950596]],\n",
       " \n",
       "         [[-0.195038  ,  0.14334245,  0.20748371, -0.13038394,\n",
       "            0.101354  , -0.10340285, -0.22951722,  0.14324294,\n",
       "            0.18237165,  0.13404797]],\n",
       " \n",
       "         [[-0.30555776,  0.21623175,  0.01994792,  0.1640759 ,\n",
       "            0.03260328,  0.21872617,  0.00860515,  0.14678855,\n",
       "           -0.14361025,  0.05404479]],\n",
       " \n",
       "         [[-0.18012038,  0.00883031, -0.02824465, -0.167476  ,\n",
       "            0.24547797, -0.06931316, -0.09238616, -0.15647617,\n",
       "            0.14525531, -0.06800751]]]], dtype=float32)>,\n",
       " <tf.Variable 'conv2d/bias:0' shape=(10,) dtype=float32, numpy=\n",
       " array([0.05013658, 0.01663345, 0.03492337, 0.01284369, 0.03467003,\n",
       "        0.01070263, 0.01214104, 0.02401704, 0.01319783, 0.01316703],\n",
       "       dtype=float32)>,\n",
       " <tf.Variable 'dense/kernel:0' shape=(6250, 50) dtype=float32, numpy=\n",
       " array([[ 3.0147459e-02, -8.2086409e-03,  7.4298945e-03, ...,\n",
       "          5.2287620e-03,  4.2739324e-02, -1.4985361e-02],\n",
       "        [-4.5963963e-03,  3.6020830e-02,  1.1846489e-02, ...,\n",
       "         -3.2570299e-02,  4.3541766e-03, -4.9123773e-03],\n",
       "        [-1.5689041e-02,  2.1604257e-02,  8.3341016e-05, ...,\n",
       "          5.9908107e-03, -1.5099917e-02, -3.8842317e-02],\n",
       "        ...,\n",
       "        [ 4.0827800e-02, -2.4674274e-03, -1.1720478e-02, ...,\n",
       "         -6.9982167e-03,  1.6008597e-02,  3.5524012e-03],\n",
       "        [ 2.7844576e-02,  3.3741544e-03, -2.3103727e-02, ...,\n",
       "         -2.7537365e-03,  3.2587335e-02,  1.2704234e-02],\n",
       "        [-2.0788314e-02, -1.5934017e-02, -1.4405632e-02, ...,\n",
       "          9.7446004e-03,  3.5499070e-02, -1.3369987e-02]], dtype=float32)>,\n",
       " <tf.Variable 'dense/bias:0' shape=(50,) dtype=float32, numpy=\n",
       " array([ 0.01458025,  0.00968442,  0.01409597,  0.01746563,  0.01774982,\n",
       "        -0.00689987, -0.00629669,  0.00967055,  0.02139681,  0.01906338,\n",
       "         0.01271885,  0.01493479,  0.00281322,  0.01519199, -0.00639279,\n",
       "         0.01813577,  0.01804256,  0.00853902,  0.02306849,  0.01732049,\n",
       "         0.00859743, -0.00692728,  0.02045622,  0.02108344,  0.01142819,\n",
       "        -0.00654599, -0.0074951 , -0.0063    , -0.00620684, -0.00730683,\n",
       "        -0.00623285, -0.00745264,  0.03724296, -0.00707811,  0.00622594,\n",
       "         0.01795635, -0.01124087, -0.00621097, -0.00840753,  0.01300897,\n",
       "         0.00583676,  0.01474179, -0.0063891 , -0.00782135,  0.00505703,\n",
       "         0.01594807,  0.0096996 , -0.00682855,  0.02076543,  0.01242502],\n",
       "       dtype=float32)>,\n",
       " <tf.Variable 'dense_1/kernel:0' shape=(50, 10) dtype=float32, numpy=\n",
       " array([[-1.28331989e-01,  1.93030044e-01, -2.59709805e-01,\n",
       "          2.69046336e-01, -2.94180214e-01,  1.88180599e-02,\n",
       "         -1.81573883e-01,  2.09554315e-01, -2.96408355e-01,\n",
       "         -1.88860357e-01],\n",
       "        [ 2.60094732e-01, -3.31677943e-01,  2.05082268e-01,\n",
       "          1.65267393e-01, -4.08835948e-01,  2.76773602e-01,\n",
       "         -8.77839401e-02, -1.53407499e-01,  2.45872401e-02,\n",
       "         -1.58564940e-01],\n",
       "        [-2.92772025e-01, -1.04144529e-01, -2.76724964e-01,\n",
       "          1.33808896e-01, -1.88265949e-01,  3.05615902e-01,\n",
       "          1.32616758e-01, -1.79106191e-01, -2.90045023e-01,\n",
       "          7.27582425e-02],\n",
       "        [-1.66808024e-01, -2.12539464e-01, -2.64577001e-01,\n",
       "         -1.03320494e-01, -2.40931641e-02, -1.34658860e-02,\n",
       "         -2.40909040e-01, -2.81931728e-01, -2.59868830e-01,\n",
       "          1.00696474e-01],\n",
       "        [-3.46656591e-01,  8.52397829e-02,  2.95639962e-01,\n",
       "          1.71517789e-01, -1.16652008e-02, -2.90790051e-01,\n",
       "         -2.47965619e-01, -9.59861949e-02,  2.60688156e-01,\n",
       "         -2.71468788e-01],\n",
       "        [ 1.26876011e-01, -1.90006912e-01,  2.67608672e-01,\n",
       "         -2.87602812e-01, -5.12458906e-02,  2.07930893e-01,\n",
       "          1.50202200e-01,  1.81611270e-01, -1.56102419e-01,\n",
       "          2.45504364e-01],\n",
       "        [ 1.53121710e-01,  6.96842074e-02,  1.49473518e-01,\n",
       "         -1.53789997e-01, -1.62460014e-01,  2.83249319e-01,\n",
       "          2.31393442e-01,  2.89232850e-01,  1.53303206e-01,\n",
       "          9.55340639e-02],\n",
       "        [-3.68102014e-01,  1.63900599e-01,  2.72691905e-01,\n",
       "          2.11561561e-01, -9.61727127e-02,  2.95394417e-02,\n",
       "         -1.47482708e-01, -1.46803141e-01, -3.04435223e-01,\n",
       "         -3.19018245e-01],\n",
       "        [-3.11032146e-01, -1.26395211e-01, -1.52222931e-01,\n",
       "         -2.89594587e-02,  9.75029264e-03,  1.13660842e-01,\n",
       "         -2.54036456e-01,  8.01663399e-02,  2.06326991e-01,\n",
       "         -1.67078316e-01],\n",
       "        [-1.21271163e-02,  1.59467995e-01, -1.56643018e-01,\n",
       "         -2.08045825e-01, -1.84144869e-01, -4.66843136e-02,\n",
       "         -6.03569001e-02,  3.87235582e-02, -1.65413648e-01,\n",
       "         -1.50856718e-01],\n",
       "        [-3.17782134e-01, -1.60174534e-01, -1.21923760e-01,\n",
       "          2.02649310e-01,  5.74045926e-02,  1.71266496e-01,\n",
       "          2.40676403e-01, -2.98708230e-01, -6.23132102e-02,\n",
       "         -2.98986167e-01],\n",
       "        [ 1.02122188e-01, -1.62556693e-01, -2.25446895e-01,\n",
       "         -4.92808558e-02, -1.52626663e-01, -5.74187338e-02,\n",
       "          1.01593308e-01,  2.19747405e-02,  1.98157877e-01,\n",
       "          1.70337886e-01],\n",
       "        [ 2.02645689e-01, -2.62617469e-01,  3.31610590e-01,\n",
       "         -1.65812165e-01, -6.94100708e-02,  5.60131222e-02,\n",
       "          3.43585402e-01, -4.01130289e-01,  3.07108343e-01,\n",
       "         -1.40879005e-01],\n",
       "        [ 2.37501681e-01,  2.61412144e-01, -2.81437039e-02,\n",
       "         -2.13145778e-01, -1.20040208e-01, -7.07988665e-02,\n",
       "          1.83961019e-02, -3.31229717e-01, -2.96888500e-01,\n",
       "          1.83443338e-01],\n",
       "        [-2.33675107e-01,  1.23407952e-01, -8.39490667e-02,\n",
       "          2.09273681e-01, -2.99908012e-01,  1.52903870e-01,\n",
       "          1.40298158e-01, -1.17043629e-01,  1.19731605e-01,\n",
       "          9.10145789e-02],\n",
       "        [-9.09453109e-02,  2.75900438e-02, -2.91759551e-01,\n",
       "         -2.56134957e-01,  9.67148095e-02, -1.06074698e-01,\n",
       "          8.29576552e-02,  8.32420737e-02, -2.22376078e-01,\n",
       "          9.69593972e-02],\n",
       "        [ 1.22008368e-01, -3.29216532e-02,  5.05510299e-03,\n",
       "         -2.29051448e-02, -3.31009686e-01, -2.00170532e-01,\n",
       "          3.11590433e-01,  1.39318526e-01, -4.94684763e-02,\n",
       "         -2.79081196e-01],\n",
       "        [-3.03434823e-02, -1.96559012e-01, -2.69811690e-01,\n",
       "          1.77021235e-01, -2.17732370e-01,  1.22255631e-01,\n",
       "          1.09506555e-01, -2.31209725e-01, -2.63461679e-01,\n",
       "          2.23546386e-01],\n",
       "        [ 2.98954666e-01,  2.74006784e-01, -3.32830459e-01,\n",
       "         -1.27547592e-01, -1.34697884e-01,  6.85225874e-02,\n",
       "          2.56134160e-02, -1.59333974e-01, -4.82902303e-02,\n",
       "         -1.25411421e-01],\n",
       "        [ 1.84187651e-01,  9.21121910e-02, -1.48548186e-01,\n",
       "         -1.04767434e-01,  1.46599263e-01,  6.13010079e-02,\n",
       "         -2.89140373e-01, -2.92948782e-01, -2.00266272e-01,\n",
       "          1.82658225e-01],\n",
       "        [-2.70536005e-01,  1.63491532e-01, -2.38255605e-01,\n",
       "          2.36726195e-01,  1.43454298e-01, -3.34421635e-01,\n",
       "          4.39386182e-02, -2.25370869e-01, -1.27283439e-01,\n",
       "          1.55216724e-01],\n",
       "        [-9.93601084e-02,  2.72026211e-01,  2.14296300e-02,\n",
       "          1.73326612e-01,  2.89567094e-02,  4.24853433e-03,\n",
       "         -1.06202833e-01,  1.23808563e-01,  8.00377876e-02,\n",
       "         -3.80285792e-02],\n",
       "        [ 1.60608843e-01,  6.90947846e-02,  3.26488763e-01,\n",
       "         -1.18422275e-02, -1.52538434e-01, -9.61628109e-02,\n",
       "         -7.93176442e-02,  1.93796605e-01, -3.25512648e-01,\n",
       "         -3.90024751e-01],\n",
       "        [ 3.25128824e-01,  2.79245108e-01, -2.10825920e-01,\n",
       "         -2.44137466e-01, -3.57664734e-01,  1.02085285e-01,\n",
       "         -5.18159568e-02,  1.82840809e-01, -1.66491419e-01,\n",
       "          1.21098518e-01],\n",
       "        [-7.29175657e-02, -3.23615223e-01,  2.67986983e-01,\n",
       "          1.74820483e-01, -2.80553758e-01,  1.92438260e-01,\n",
       "         -9.77517758e-03, -2.12920085e-01,  3.14779490e-01,\n",
       "         -1.67730182e-01],\n",
       "        [-2.31695011e-01,  4.63087548e-04, -2.08547503e-01,\n",
       "          3.75639275e-03,  1.24209419e-01,  7.14160278e-02,\n",
       "          1.38350010e-01,  2.19631344e-01,  9.53558832e-02,\n",
       "         -1.69184715e-01],\n",
       "        [ 2.06584066e-01, -2.45178521e-01,  3.07060897e-01,\n",
       "          9.33547318e-03,  2.25963771e-01, -6.89061433e-02,\n",
       "         -7.58518800e-02,  3.05291593e-01, -1.68503881e-01,\n",
       "         -2.03146100e-01],\n",
       "        [ 3.63159515e-02, -2.39665415e-02,  8.00212994e-02,\n",
       "          2.02300265e-01, -1.01441413e-01,  1.96952373e-01,\n",
       "          2.00039715e-01,  1.85270965e-01,  1.20335855e-02,\n",
       "          8.67035389e-02],\n",
       "        [ 2.98841417e-01,  1.12273455e-01,  2.83758938e-01,\n",
       "         -2.43583962e-01, -1.80257231e-01, -2.96751887e-01,\n",
       "         -2.73535401e-01,  5.00444956e-02,  2.41362736e-01,\n",
       "          2.38899320e-01],\n",
       "        [ 2.28623614e-01,  2.10143209e-01, -2.54015058e-01,\n",
       "         -1.08914874e-01, -6.60159811e-02,  1.76565707e-01,\n",
       "          3.08391899e-02, -6.43530414e-02,  2.75766164e-01,\n",
       "          1.55370370e-01],\n",
       "        [-9.87301394e-02,  4.74849232e-02,  1.97342813e-01,\n",
       "          2.20345229e-01,  2.01557666e-01,  1.39322251e-01,\n",
       "         -9.35551152e-02, -3.99808362e-02,  1.40205482e-02,\n",
       "          7.38543421e-02],\n",
       "        [ 1.60041109e-01,  3.03101629e-01, -1.83026165e-01,\n",
       "         -3.11495811e-01,  2.66308397e-01, -2.72754192e-01,\n",
       "          1.82310984e-01,  2.96828806e-01,  3.05769384e-01,\n",
       "          2.37115979e-01],\n",
       "        [-3.30935687e-01, -3.30478251e-01,  6.06139861e-02,\n",
       "          5.61320074e-02,  2.72954822e-01,  3.03171217e-01,\n",
       "         -2.18963817e-01,  1.92979455e-01, -3.49443078e-01,\n",
       "          1.64703786e-01],\n",
       "        [-1.95882805e-02,  9.66060683e-02, -8.16791728e-02,\n",
       "         -4.23108265e-02, -2.21122310e-01,  2.87556946e-02,\n",
       "          2.42897630e-01, -5.44312298e-02,  3.17979604e-02,\n",
       "          1.60700053e-01],\n",
       "        [ 2.57483631e-01, -1.92179531e-01,  4.41066623e-02,\n",
       "          5.59361093e-02, -1.26165897e-01, -1.57822564e-01,\n",
       "          1.32347316e-01, -1.55619398e-01, -3.23614538e-01,\n",
       "          2.33805075e-01],\n",
       "        [ 7.22314939e-02,  1.82815179e-01,  2.94624746e-01,\n",
       "         -2.35795438e-01, -7.55566284e-02, -2.69754261e-01,\n",
       "         -3.23880941e-01, -4.89591360e-02,  8.91582817e-02,\n",
       "          2.06792831e-01],\n",
       "        [ 1.52955234e-01, -2.97756821e-01, -1.82142146e-02,\n",
       "          2.09875286e-01, -3.16105455e-01, -2.25112721e-01,\n",
       "          1.18072722e-02, -1.43018454e-01,  3.18961173e-01,\n",
       "          3.30013752e-01],\n",
       "        [ 2.62631744e-01,  2.16797858e-01,  1.03916876e-01,\n",
       "          1.62086934e-01,  1.70172870e-01,  3.26413251e-02,\n",
       "         -5.96401803e-02,  1.85664535e-01,  1.57361850e-01,\n",
       "          1.23969607e-01],\n",
       "        [-1.69442415e-01,  4.11472023e-02,  2.69117415e-01,\n",
       "         -3.15070748e-01,  1.66564375e-01,  1.67230457e-01,\n",
       "         -8.10746029e-02,  1.71928942e-01, -3.59055251e-02,\n",
       "          9.76301432e-02],\n",
       "        [-1.30373552e-01, -1.51893675e-01,  2.94213623e-01,\n",
       "         -2.65295524e-02, -9.10869613e-02, -3.30130219e-01,\n",
       "         -1.48142070e-01,  2.05686659e-01,  5.95301501e-02,\n",
       "         -5.51742762e-02],\n",
       "        [ 2.02386111e-01, -2.88994282e-01, -1.26691699e-01,\n",
       "          2.42508173e-01,  2.88121998e-01, -3.22160542e-01,\n",
       "          2.42550850e-01, -5.85466586e-02, -1.75829366e-01,\n",
       "         -2.87542641e-01],\n",
       "        [-3.68484519e-02, -6.65086582e-02,  2.67339110e-01,\n",
       "         -3.15722793e-01, -1.83699831e-01,  2.12566033e-02,\n",
       "         -1.23914927e-01,  1.05459094e-01, -1.93179905e-01,\n",
       "          2.66837358e-01],\n",
       "        [ 1.43336847e-01,  1.57611877e-01, -2.24129230e-01,\n",
       "          1.09063305e-01, -1.60999194e-01, -3.49743664e-02,\n",
       "          2.20147431e-01,  2.69419909e-01,  3.08964133e-01,\n",
       "         -2.23416150e-01],\n",
       "        [-2.80929147e-03,  1.41698778e-01,  2.73530424e-01,\n",
       "          5.68761490e-02, -9.66216847e-02, -1.94455653e-01,\n",
       "          2.03738064e-01,  8.64066705e-02, -1.32339105e-01,\n",
       "         -3.85931954e-02],\n",
       "        [-1.49979955e-02,  4.19034511e-02, -2.80326128e-01,\n",
       "          1.78279299e-02,  2.71569669e-01, -3.32929075e-01,\n",
       "          3.69485825e-01, -1.32417873e-01, -2.81855047e-01,\n",
       "         -7.87753612e-02],\n",
       "        [ 2.81479340e-02,  1.00851908e-01,  2.98628002e-01,\n",
       "         -2.21141055e-01, -2.95840710e-01, -2.02170685e-01,\n",
       "         -1.37591630e-01,  1.44196078e-01, -1.22331783e-01,\n",
       "         -2.50640869e-01],\n",
       "        [-3.43777925e-01, -7.49576166e-02,  1.12023644e-01,\n",
       "          6.16525784e-02, -1.91960081e-01, -3.33806813e-01,\n",
       "          2.74019450e-01, -2.85327643e-01, -2.43909076e-01,\n",
       "          1.09356746e-01],\n",
       "        [ 3.01233418e-02, -1.66211843e-01, -1.60277169e-02,\n",
       "          6.55979440e-02,  7.60966465e-02,  1.35297462e-01,\n",
       "          2.28822052e-01, -1.54235899e-01,  1.82200357e-01,\n",
       "          1.48131311e-01],\n",
       "        [-2.60801107e-01, -1.47883520e-01, -9.75016803e-02,\n",
       "         -3.34462702e-01,  3.11110705e-01,  1.54795377e-02,\n",
       "         -5.12101501e-02,  1.81717783e-01,  2.06953421e-01,\n",
       "         -2.81855106e-01],\n",
       "        [-1.84482500e-01, -1.91116601e-01, -3.11069161e-01,\n",
       "          2.96921283e-01,  4.94981892e-02, -1.68675616e-01,\n",
       "         -7.82790035e-02,  1.11218804e-04, -2.29673564e-01,\n",
       "         -3.02453563e-02]], dtype=float32)>,\n",
       " <tf.Variable 'dense_1/bias:0' shape=(10,) dtype=float32, numpy=\n",
       " array([-0.01968014, -0.01459931, -0.02018572, -0.02055654, -0.01744053,\n",
       "        -0.01327354, -0.01869729, -0.01732888, -0.00704064, -0.0177537 ],\n",
       "       dtype=float32)>]"
      ]
     },
     "execution_count": 22,
     "metadata": {},
     "output_type": "execute_result"
    }
   ],
   "source": [
    "modelo_cnn.weights"
   ]
  },
  {
   "cell_type": "code",
   "execution_count": 23,
   "id": "64a5fe53",
   "metadata": {
    "id": "64a5fe53",
    "outputId": "671a719e-ef3e-4b9f-9cdc-b36df6f8a2fd"
   },
   "outputs": [
    {
     "data": {
      "text/plain": [
       "array([[0, 0, 0, ..., 1, 0, 0],\n",
       "       [0, 0, 1, ..., 0, 0, 0],\n",
       "       [0, 1, 0, ..., 0, 0, 0],\n",
       "       ...,\n",
       "       [0, 0, 0, ..., 0, 0, 0],\n",
       "       [0, 0, 0, ..., 0, 0, 0],\n",
       "       [0, 0, 0, ..., 0, 0, 0]], dtype=uint8)"
      ]
     },
     "execution_count": 23,
     "metadata": {},
     "output_type": "execute_result"
    }
   ],
   "source": [
    "# Consultamos las etiquetas normalizadas del conjunto de test\n",
    "y_test_norm"
   ]
  },
  {
   "cell_type": "code",
   "execution_count": 24,
   "id": "f46c7a9e",
   "metadata": {
    "id": "f46c7a9e",
    "outputId": "017ae67c-6ab9-455e-dda7-08fc99ab37a4"
   },
   "outputs": [
    {
     "data": {
      "text/plain": [
       "array([[0, 0, 0, ..., 1, 0, 0],\n",
       "       [0, 0, 1, ..., 0, 0, 0],\n",
       "       [0, 1, 0, ..., 0, 0, 0],\n",
       "       ...,\n",
       "       [0, 0, 0, ..., 0, 0, 0],\n",
       "       [0, 0, 0, ..., 0, 0, 0],\n",
       "       [0, 0, 0, ..., 0, 0, 0]])"
      ]
     },
     "execution_count": 24,
     "metadata": {},
     "output_type": "execute_result"
    }
   ],
   "source": [
    "# Consultamos las predicciones filtradas del modelo para el conjunto de test\n",
    "y_pred_cnn_filt"
   ]
  },
  {
   "cell_type": "code",
   "execution_count": 25,
   "id": "67861093",
   "metadata": {
    "id": "67861093",
    "outputId": "94100d01-17ad-4ba1-e9f5-fa68d65cfe67"
   },
   "outputs": [
    {
     "data": {
      "text/plain": [
       "array([[2.3806876e-06, 3.6978353e-08, 1.2578990e-05, ..., 9.9992651e-01,\n",
       "        3.0575251e-08, 1.4040367e-06],\n",
       "       [1.4108799e-05, 2.3730349e-06, 9.9958402e-01, ..., 1.4883972e-10,\n",
       "        6.2431076e-07, 2.3859395e-10],\n",
       "       [5.7495890e-06, 9.9894696e-01, 2.5826340e-04, ..., 3.9830647e-04,\n",
       "        5.3305219e-05, 2.6744054e-05],\n",
       "       ...,\n",
       "       [1.4957285e-08, 3.6655453e-07, 2.2207396e-07, ..., 8.4501822e-05,\n",
       "        1.8138543e-04, 5.5459095e-04],\n",
       "       [2.2766275e-05, 2.4617445e-06, 3.9995189e-06, ..., 8.6155814e-07,\n",
       "        2.1590376e-02, 4.8841980e-06],\n",
       "       [7.2143969e-08, 1.2593937e-10, 9.7643560e-06, ..., 3.3424055e-11,\n",
       "        3.1249778e-09, 2.2222053e-09]], dtype=float32)"
      ]
     },
     "execution_count": 25,
     "metadata": {},
     "output_type": "execute_result"
    }
   ],
   "source": [
    "# Consultamos la salida cruda del modelo para el conjunto de test\n",
    "y_pred_cnn"
   ]
  },
  {
   "cell_type": "markdown",
   "id": "75a3b413",
   "metadata": {
    "id": "75a3b413"
   },
   "source": [
    "Vamos a investigar la distribución y el rango de **la salida directa de la red** que serían las **probabilidades** de que si pertenece una imágen a una clase o no."
   ]
  },
  {
   "cell_type": "code",
   "execution_count": 26,
   "id": "6a8597cc",
   "metadata": {
    "id": "6a8597cc",
    "outputId": "367a2b55-1c73-4093-c298-493413c3f56a"
   },
   "outputs": [
    {
     "data": {
      "text/plain": [
       "count    100000.00000\n",
       "mean          0.09999\n",
       "std           0.29068\n",
       "min           0.00000\n",
       "25%           0.00000\n",
       "50%           0.00002\n",
       "75%           0.00043\n",
       "max           1.00000\n",
       "dtype: float64"
      ]
     },
     "execution_count": 26,
     "metadata": {},
     "output_type": "execute_result"
    }
   ],
   "source": [
    "# Las características estadística de las predicciones sin filtrar\n",
    "pd.Series(y_pred_cnn.flatten()).describe().round(5)"
   ]
  },
  {
   "cell_type": "markdown",
   "id": "d86a71ae",
   "metadata": {
    "id": "d86a71ae"
   },
   "source": [
    "Por ser valores **muy concentrados cerca de 0 y de 1**, no hay ninguna preocupación a la hora de determinar el **umbral** final para el filtro de las predicciones.  "
   ]
  },
  {
   "cell_type": "code",
   "execution_count": 27,
   "id": "53640cd1",
   "metadata": {
    "id": "53640cd1",
    "outputId": "cd868724-c179-4a4a-bf86-95a982634d76"
   },
   "outputs": [
    {
     "data": {
      "text/plain": [
       "<AxesSubplot:>"
      ]
     },
     "execution_count": 27,
     "metadata": {},
     "output_type": "execute_result"
    },
    {
     "data": {
      "image/png": "[encoded data removed]",
      "text/plain": [
       "<Figure size 864x432 with 1 Axes>"
      ]
     },
     "metadata": {
      "needs_background": "light"
     },
     "output_type": "display_data"
    }
   ],
   "source": [
    "# El histograma de las probabilidades resultantes del modelo \n",
    "pd.Series(y_pred_cnn.flatten()).hist(bins=200)"
   ]
  },
  {
   "cell_type": "markdown",
   "id": "986889e9",
   "metadata": {
    "id": "986889e9"
   },
   "source": [
    "Ahora vamos a crear una nueva red con más capas convolucionales. Intentamos desarrollar un modelo concorde a la estructura representada en este ejemplo: "
   ]
  },
  {
   "cell_type": "markdown",
   "id": "429a4d5e",
   "metadata": {
    "id": "429a4d5e"
   },
   "source": [
    "![image.png](attachment:image.png)"
   ]
  },
  {
   "cell_type": "code",
   "execution_count": 28,
   "id": "c9af17a0",
   "metadata": {
    "id": "c9af17a0",
    "outputId": "da37d218-5525-4f0f-e861-589d81bd5913"
   },
   "outputs": [
    {
     "name": "stdout",
     "output_type": "stream",
     "text": [
      "Model: \"sequential\"\n",
      "_________________________________________________________________\n",
      " Layer (type)                Output Shape              Param #   \n",
      "=================================================================\n",
      " conv2d (Conv2D)             (None, 24, 24, 16)        416       \n",
      "                                                                 \n",
      " conv2d_1 (Conv2D)           (None, 20, 20, 36)        14436     \n",
      "                                                                 \n",
      " flatten (Flatten)           (None, 14400)             0         \n",
      "                                                                 \n",
      " dense (Dense)               (None, 128)               1843328   \n",
      "                                                                 \n",
      " dense_1 (Dense)             (None, 10)                1290      \n",
      "                                                                 \n",
      "=================================================================\n",
      "Total params: 1,859,470\n",
      "Trainable params: 1,859,470\n",
      "Non-trainable params: 0\n",
      "_________________________________________________________________\n",
      "Epoch 1/3\n",
      "60/60 [==============================] - 108s 2s/step - loss: 0.1467 - accuracy: 0.7732 - val_loss: 0.0407 - val_accuracy: 0.9456\n",
      "Epoch 2/3\n",
      "60/60 [==============================] - 107s 2s/step - loss: 0.0287 - accuracy: 0.9624 - val_loss: 0.0182 - val_accuracy: 0.9772\n",
      "Epoch 3/3\n",
      "60/60 [==============================] - 113s 2s/step - loss: 0.0172 - accuracy: 0.9780 - val_loss: 0.0135 - val_accuracy: 0.9823\n",
      "313/313 [==============================] - 6s 20ms/step\n",
      "Acuuracy: 0.9817\n",
      "AUC: 0.989944596467925\n"
     ]
    },
    {
     "data": {
      "image/png": "[encoded data removed]",
      "text/plain": [
       "<Figure size 1440x432 with 1 Axes>"
      ]
     },
     "metadata": {
      "needs_background": "light"
     },
     "output_type": "display_data"
    },
    {
     "data": {
      "image/png": "[encoded data removed]",
      "text/plain": [
       "<Figure size 1440x432 with 1 Axes>"
      ]
     },
     "metadata": {
      "needs_background": "light"
     },
     "output_type": "display_data"
    }
   ],
   "source": [
    "# importar los módulos, las clases y las funciones a utilizar\n",
    "import random\n",
    "import tensorflow as tf\n",
    "from keras.models import Sequential\n",
    "from keras import Input\n",
    "from keras.layers import Dense, Conv2D, Flatten\n",
    "from sklearn.metrics import accuracy_score, classification_report, roc_curve, roc_auc_score\n",
    "from keras.backend import clear_session\n",
    "\n",
    "# Resetear el estado global de keras\n",
    "clear_session()\n",
    "\n",
    "# Fijar la semilla para conseguir la reproducibilidad de los resultados\n",
    "semilla = 333\n",
    "random.seed(semilla)   # Fijar la semilla a nivel de `python`\n",
    "np.random.seed(semilla)  # Fijar la semilla a nivel de `numpy`  \n",
    "tf.random.set_seed(semilla)  # Fijar la semilla a nivel de `tensorflow`\n",
    "\n",
    "\n",
    "# Declarar el modelo que se va a crear\n",
    "modelo_cnn2 = Sequential()\n",
    "modelo_cnn2.add(Input(shape=x_train[0].shape))\n",
    "modelo_cnn2.add(Conv2D(filters=16, kernel_size=(5,5), activation='relu'))\n",
    "modelo_cnn2.add(Conv2D(filters=36, kernel_size=(5,5), activation='relu'))\n",
    "modelo_cnn2.add(Flatten())\n",
    "modelo_cnn2.add(Dense(128, activation='relu'))\n",
    "modelo_cnn2.add(Dense(10, activation='softmax'))\n",
    "\n",
    "# Compilar e indicar los ajustes del modelo\n",
    "modelo_cnn2.compile(loss='binary_crossentropy', optimizer='Adam', metrics=['accuracy'])\n",
    "\n",
    "# Consultar el resumen del modelo definido\n",
    "modelo_cnn2.summary()\n",
    "\n",
    "# Ajustar el modelo a los datos del entrenamiento.\n",
    "registros2 = modelo_cnn2.fit(x_train, y_train_norm, validation_data=(x_test, y_test_norm), epochs=3, batch_size=1000)\n",
    "\n",
    "# Calcular las predicciones para el conjunto de test \n",
    "y_pred_cnn2 = modelo_cnn2.predict(x_test)\n",
    "\n",
    "\n",
    "# Filtrar las predicciones y evaluar el modelo\n",
    "y_pred_cnn_filt2 = np.where(y_pred_cnn2 < 0.5, 0, 1)\n",
    "print('Acuuracy:', accuracy_score(y_test_norm, y_pred_cnn_filt2))\n",
    "print('AUC:', roc_auc_score(y_test_norm, y_pred_cnn_filt2))\n",
    "\n",
    "# Graficamos la evolución de error (Logic Loss)\n",
    "plt.figure(figsize=(20,6))\n",
    "plt.plot(registros2.epoch, registros2.history['loss'], linewidth=3, label='training Log-Loss')\n",
    "plt.plot(registros2.epoch, registros2.history['val_loss'], linewidth=3, label='test Log-Loss')\n",
    "plt.xticks(registros2.epoch)\n",
    "plt.xlabel('epochs')\n",
    "plt.ylabel('Loss')\n",
    "plt.title('La evolución de error')\n",
    "plt.legend(loc = 'upper right')\n",
    "plt.show()\n",
    "\n",
    "# Graficamos la evolución del porcentaje de acierto (Accuracy)\n",
    "plt.figure(figsize=(20,6))\n",
    "plt.plot(registros2.epoch, registros2.history['accuracy'], linewidth=3, label='training Accuracy')\n",
    "plt.plot(registros2.epoch, registros2.history['val_accuracy'], linewidth=3, label='test Accuracy')\n",
    "plt.xticks(registros2.epoch)\n",
    "plt.xlabel('epochs')\n",
    "plt.ylabel('Accuracy')\n",
    "plt.title('La evolución del porcentaje de acierto')\n",
    "plt.legend(loc = 'lower right')\n",
    "plt.show()"
   ]
  },
  {
   "cell_type": "markdown",
   "id": "3238e10e",
   "metadata": {
    "id": "3238e10e"
   },
   "source": [
    "Como se puede apreciar, los resultados del modelo, tanto en términos de **precisión** como de **evolución de la métrica de error (_Loss_)** en los dos conjuntos de entrenamiento y de prueba, sin duda son **muy acertados**. "
   ]
  },
  {
   "cell_type": "markdown",
   "id": "ad505c13",
   "metadata": {
    "id": "ad505c13"
   },
   "source": [
    "---"
   ]
  },
  {
   "cell_type": "markdown",
   "id": "7c360f33",
   "metadata": {
    "id": "7c360f33"
   },
   "source": [
    "### **`Ejercicio 17.1`**\n",
    "\n",
    "Crea una ___ConvNet___ basada en la estructura recomendada en el siguiente diagrama, considerando los siguientes puntos. Explica si este último modelo tiene un buen rendimiento comparando con modelos anteriores:\n",
    "- El tamaño de los _kernels_ aplicada en la capa convolucional es de (`3x3`).\n",
    "- `semilla=333`,\n",
    "- `epochs=3`,\n",
    "- `batch_size=1000`,\n",
    "- `umbral=0.5`"
   ]
  },
  {
   "cell_type": "markdown",
   "id": "1b5e04ec",
   "metadata": {
    "id": "1b5e04ec"
   },
   "source": [
    "![image.png](attachment:image.png)"
   ]
  },
  {
   "cell_type": "code",
   "execution_count": 29,
   "id": "5a9ea047",
   "metadata": {
    "id": "5a9ea047"
   },
   "outputs": [],
   "source": [
    "# Solución\n",
    "# Ejercicio 17.1\n",
    "# Resetear el estado global de keras\n",
    "def ConvNet():\n",
    "    clear_session()\n",
    "\n",
    "    # Fijar la semilla para conseguir la reproducibilidad de los resultados\n",
    "    semilla = 333\n",
    "    random.seed(semilla)   # Fijar la semilla a nivel de `python`\n",
    "    np.random.seed(semilla)  # Fijar la semilla a nivel de `numpy`  \n",
    "    tf.random.set_seed(semilla)  # Fijar la semilla a nivel de `tensorflow`\n",
    "\n",
    "\n",
    "    # Declarar el modelo que se va a crear\n",
    "    modelo_convnet = Sequential()\n",
    "    modelo_convnet.add(Input(shape=x_train[0].shape))\n",
    "    modelo_convnet.add(Conv2D(filters=10, kernel_size=(3,3), activation='relu'))\n",
    "    modelo_convnet.add(Flatten())\n",
    "    modelo_convnet.add(Dense(50, activation='relu'))\n",
    "    modelo_convnet.add(Dense(10, activation='softmax'))\n",
    "\n",
    "    # Compilar e indicar los ajustes del modelo\n",
    "    modelo_convnet.compile(loss='binary_crossentropy', optimizer='Adam', metrics=['accuracy'])\n",
    "\n",
    "    # Consultar el resumen del modelo definido\n",
    "    modelo_convnet.summary()\n",
    "\n",
    "    # Ajustar el modelo a los datos del entrenamiento.\n",
    "    registros = modelo_convnet.fit(x_train, y_train_norm, validation_data=(x_test, y_test_norm), epochs=3, batch_size=1000)\n",
    "\n",
    "    # Calcular las predicciones para el conjunto de test \n",
    "    y_pred_cnn = modelo_convnet.predict(x_test)\n",
    "\n",
    "\n",
    "    # Filtrar las predicciones y evaluar el modelo\n",
    "    y_pred_cnn_filt = np.where(y_pred_cnn < 0.5, 0, 1)\n",
    "    print('Acuuracy:', accuracy_score(y_test_norm, y_pred_cnn_filt))\n",
    "    print('AUC:', roc_auc_score(y_test_norm, y_pred_cnn_filt))\n",
    "    \n",
    "    # Graficamos la evolución de error (Logic Loss)\n",
    "    plt.figure(figsize=(20,6))\n",
    "    plt.plot(registros.epoch, registros.history['loss'], linewidth=3, label='training Log-Loss')\n",
    "    plt.plot(registros.epoch, registros.history['val_loss'], linewidth=3, label='test Log-Loss')\n",
    "    plt.xticks(registros.epoch)\n",
    "    plt.xlabel('epochs')\n",
    "    plt.ylabel('Loss')\n",
    "    plt.title('La evolución de error')\n",
    "    plt.legend(loc = 'upper right')\n",
    "    plt.show()\n",
    "\n",
    "    # Graficamos la evolución del porcentaje de acierto (Accuracy)\n",
    "    plt.figure(figsize=(20,6))\n",
    "    plt.plot(registros.epoch, registros.history['accuracy'], linewidth=3, label='training Accuracy')\n",
    "    plt.plot(registros.epoch, registros.history['val_accuracy'], linewidth=3, label='test Accuracy')\n",
    "    plt.xticks(registros.epoch)\n",
    "    plt.xlabel('epochs')\n",
    "    plt.ylabel('Accuracy')\n",
    "    plt.title('La evolución del porcentaje de acierto')\n",
    "    plt.legend(loc = 'lower right')\n",
    "    plt.show()\n"
   ]
  },
  {
   "cell_type": "code",
   "execution_count": 30,
   "id": "09695d3f",
   "metadata": {},
   "outputs": [
    {
     "name": "stdout",
     "output_type": "stream",
     "text": [
      "Model: \"sequential\"\n",
      "_________________________________________________________________\n",
      " Layer (type)                Output Shape              Param #   \n",
      "=================================================================\n",
      " conv2d (Conv2D)             (None, 26, 26, 10)        100       \n",
      "                                                                 \n",
      " flatten (Flatten)           (None, 6760)              0         \n",
      "                                                                 \n",
      " dense (Dense)               (None, 50)                338050    \n",
      "                                                                 \n",
      " dense_1 (Dense)             (None, 10)                510       \n",
      "                                                                 \n",
      "=================================================================\n",
      "Total params: 338,660\n",
      "Trainable params: 338,660\n",
      "Non-trainable params: 0\n",
      "_________________________________________________________________\n",
      "Epoch 1/3\n",
      "60/60 [==============================] - 14s 214ms/step - loss: 0.2643 - accuracy: 0.5924 - val_loss: 0.1058 - val_accuracy: 0.8668\n",
      "Epoch 2/3\n",
      "60/60 [==============================] - 12s 202ms/step - loss: 0.0802 - accuracy: 0.8928 - val_loss: 0.0616 - val_accuracy: 0.9164\n",
      "Epoch 3/3\n",
      "60/60 [==============================] - 12s 195ms/step - loss: 0.0561 - accuracy: 0.9239 - val_loss: 0.0480 - val_accuracy: 0.9357\n",
      "313/313 [==============================] - 3s 8ms/step\n",
      "Acuuracy: 0.9294\n",
      "AUC: 0.9614789467565347\n"
     ]
    },
    {
     "data": {
      "image/png": "[encoded data removed]",
      "text/plain": [
       "<Figure size 1440x432 with 1 Axes>"
      ]
     },
     "metadata": {
      "needs_background": "light"
     },
     "output_type": "display_data"
    },
    {
     "data": {
      "image/png": "[encoded data removed]",
      "text/plain": [
       "<Figure size 1440x432 with 1 Axes>"
      ]
     },
     "metadata": {
      "needs_background": "light"
     },
     "output_type": "display_data"
    }
   ],
   "source": [
    "ConvNet()"
   ]
  },
  {
   "cell_type": "markdown",
   "id": "12efba15",
   "metadata": {},
   "source": [
    "**Este modelo tendrá peor rendimiento ya que el kernel es de menor tamaño, en este caso es de (3,3) mientras que en los anteriores es de (4,4) o (5,5)**"
   ]
  },
  {
   "cell_type": "markdown",
   "id": "20e3bc3e",
   "metadata": {
    "id": "20e3bc3e"
   },
   "source": [
    "---"
   ]
  },
  {
   "cell_type": "markdown",
   "id": "35b3194b",
   "metadata": {
    "id": "35b3194b"
   },
   "source": [
    "### Reducción de dimensionalidad (___Sub-sampling___)"
   ]
  },
  {
   "cell_type": "markdown",
   "id": "fb02a5e0",
   "metadata": {
    "id": "fb02a5e0"
   },
   "source": [
    "El último modelo entrenado (`modelo_cnn2`) con dos capas convolucionales y una capa oculta tipo _fully-connected_ ha llegado a tener unos **resultados perfectos**. Sin embargo, el **número de los parámetros** de esta red se podría considerar algo **elevado** (cerca de 2 millones) considerando que todavía no estamos ante una problematica muy complicada."
   ]
  },
  {
   "cell_type": "code",
   "execution_count": 31,
   "id": "51f08c10",
   "metadata": {
    "id": "51f08c10",
    "outputId": "8852d30c-65be-452d-fab8-0cad6bc5a54b"
   },
   "outputs": [
    {
     "name": "stdout",
     "output_type": "stream",
     "text": [
      "El número total de los parámetros de la red (modelo_cnn):  1859470\n"
     ]
    }
   ],
   "source": [
    "print(\"El número total de los parámetros de la red (modelo_cnn): \", modelo_cnn2.count_params())"
   ]
  },
  {
   "cell_type": "markdown",
   "id": "6a04fd30",
   "metadata": {
    "id": "6a04fd30"
   },
   "source": [
    "En las capas convolucionales, al mismo tiempo que **se aplican diferentes _kernels_** para sacar varias características representativas y **detectar diferentes patrones** presentes en las imágenes, se suelen aplicar también **una serie de técnicas de reducción de muestreo** tipo ___dawn-sampling___ o ___sub-sampling___ que intentan disminuir el tamaño de las características extraídas.  \n",
    "\n",
    "Mantener el tamaño de la imagen al pasar por los filtros de convolución hace que el **proceso de aprendizaje sea muy costoso por el número de neuronas y los pesos** asociados a los parémetros de la red neuronal. Para ello existen unas **capas llamadas ___Pooling___** que permiten reducir esos pesos del modelo y así agilizar el proceso de aprendizaje."
   ]
  },
  {
   "cell_type": "markdown",
   "id": "685b1f74",
   "metadata": {
    "id": "685b1f74"
   },
   "source": [
    "![max-pp2.gif](attachment:max-pp2.gif)"
   ]
  },
  {
   "cell_type": "markdown",
   "id": "a8bebdbb",
   "metadata": {
    "id": "a8bebdbb"
   },
   "source": [
    "\n",
    "\n",
    "El método más usado en las capas de _Pooling_ se llama ___Max-Pooling___ que procura **mantener las características más importantes** que detecta cada filtro, **preservando el valor más alto** en una ventana (de 2x2 por ejemplo) y reduciendo a su vez el tamaño de las matrices de _feature mapping_.\n",
    "\n"
   ]
  },
  {
   "cell_type": "markdown",
   "id": "76171946",
   "metadata": {
    "id": "76171946"
   },
   "source": [
    "![max-p.gif](attachment:max-p.gif)"
   ]
  },
  {
   "cell_type": "markdown",
   "id": "d7307b62",
   "metadata": {
    "id": "d7307b62"
   },
   "source": [
    "Ahora vamos a **incluir unas capas de tipo _Max-Pooling_** en nuestra red neuronal convolucional según la estructura representada en la siguiente gráfica."
   ]
  },
  {
   "cell_type": "markdown",
   "id": "c2ab6b74",
   "metadata": {
    "id": "c2ab6b74"
   },
   "source": [
    "![image.png](attachment:image.png)"
   ]
  },
  {
   "cell_type": "code",
   "execution_count": 32,
   "id": "1d516595",
   "metadata": {
    "id": "1d516595",
    "outputId": "ad86eb8f-5908-439a-b6c8-72f5e6989cce"
   },
   "outputs": [
    {
     "name": "stdout",
     "output_type": "stream",
     "text": [
      "Model: \"sequential\"\n",
      "_________________________________________________________________\n",
      " Layer (type)                Output Shape              Param #   \n",
      "=================================================================\n",
      " conv2d (Conv2D)             (None, 24, 24, 16)        416       \n",
      "                                                                 \n",
      " max_pooling2d (MaxPooling2D  (None, 12, 12, 16)       0         \n",
      " )                                                               \n",
      "                                                                 \n",
      " conv2d_1 (Conv2D)           (None, 8, 8, 36)          14436     \n",
      "                                                                 \n",
      " max_pooling2d_1 (MaxPooling  (None, 4, 4, 36)         0         \n",
      " 2D)                                                             \n",
      "                                                                 \n",
      " flatten (Flatten)           (None, 576)               0         \n",
      "                                                                 \n",
      " dense (Dense)               (None, 128)               73856     \n",
      "                                                                 \n",
      " dense_1 (Dense)             (None, 10)                1290      \n",
      "                                                                 \n",
      "=================================================================\n",
      "Total params: 89,998\n",
      "Trainable params: 89,998\n",
      "Non-trainable params: 0\n",
      "_________________________________________________________________\n",
      "Epoch 1/3\n",
      "60/60 [==============================] - 37s 536ms/step - loss: 0.3042 - accuracy: 0.4644 - val_loss: 0.1517 - val_accuracy: 0.8138\n",
      "Epoch 2/3\n",
      "60/60 [==============================] - 33s 554ms/step - loss: 0.0844 - accuracy: 0.8860 - val_loss: 0.0492 - val_accuracy: 0.9384\n",
      "Epoch 3/3\n",
      "60/60 [==============================] - 35s 584ms/step - loss: 0.0417 - accuracy: 0.9444 - val_loss: 0.0300 - val_accuracy: 0.9622\n",
      "313/313 [==============================] - 3s 8ms/step\n",
      "Acuuracy: 0.9582\n",
      "AUC: 0.9772266975804353\n"
     ]
    },
    {
     "data": {
      "image/png": "[encoded data removed]",
      "text/plain": [
       "<Figure size 1440x432 with 1 Axes>"
      ]
     },
     "metadata": {
      "needs_background": "light"
     },
     "output_type": "display_data"
    },
    {
     "data": {
      "image/png": "[encoded data removed]",
      "text/plain": [
       "<Figure size 1440x432 with 1 Axes>"
      ]
     },
     "metadata": {
      "needs_background": "light"
     },
     "output_type": "display_data"
    }
   ],
   "source": [
    "# importar los módulos, las clases y las funciones a utilizar\n",
    "import random\n",
    "import tensorflow as tf\n",
    "from keras.models import Sequential\n",
    "from keras import Input\n",
    "from keras.layers import Dense, Conv2D, Flatten, MaxPooling2D\n",
    "from sklearn.metrics import accuracy_score, classification_report, roc_curve, roc_auc_score\n",
    "from keras.backend import clear_session\n",
    "\n",
    "# Resetear el estado global de keras\n",
    "clear_session()\n",
    "\n",
    "# Fijar la semilla para conseguir la reproducibilidad de los resultados\n",
    "semilla = 333\n",
    "random.seed(semilla)   # Fijar la semilla a nivel de `python`\n",
    "np.random.seed(semilla)  # Fijar la semilla a nivel de `numpy`  \n",
    "tf.random.set_seed(semilla)  # Fijar la semilla a nivel de `tensorflow`\n",
    "\n",
    "\n",
    "# Declarar el modelo que se va a crear\n",
    "modelo_cnn_pool = Sequential()\n",
    "modelo_cnn_pool.add(Input(shape=x_train[0].shape))\n",
    "modelo_cnn_pool.add(Conv2D(filters=16, kernel_size=(5,5), activation='relu'))\n",
    "modelo_cnn_pool.add(MaxPooling2D(pool_size=(2,2)))\n",
    "modelo_cnn_pool.add(Conv2D(filters=36, kernel_size=(5,5), activation='relu'))\n",
    "modelo_cnn_pool.add(MaxPooling2D(pool_size=(2,2)))\n",
    "modelo_cnn_pool.add(Flatten())\n",
    "modelo_cnn_pool.add(Dense(128, activation='relu'))\n",
    "modelo_cnn_pool.add(Dense(10, activation='softmax'))\n",
    "\n",
    "# Compilar e indicar los ajustes del modelo\n",
    "modelo_cnn_pool.compile(loss='binary_crossentropy', optimizer='Adam', metrics=['accuracy'])\n",
    "\n",
    "# Consultar el resumen del modelo definido\n",
    "modelo_cnn_pool.summary()\n",
    "\n",
    "# Ajustar el modelo a los datos del entrenamiento.\n",
    "registros_pool = modelo_cnn_pool.fit(x_train, y_train_norm, validation_data=(x_test, y_test_norm), epochs=3, batch_size=1000)\n",
    "\n",
    "# Calcular las predicciones para el conjunto de test \n",
    "y_pred_cnn_pool = modelo_cnn_pool.predict(x_test)\n",
    "\n",
    "\n",
    "# Filtrar las predicciones y evaluar el modelo\n",
    "y_pred_cnn_filt_pool = np.where(y_pred_cnn_pool < 0.5, 0, 1)\n",
    "print('Acuuracy:', accuracy_score(y_test_norm, y_pred_cnn_filt_pool))\n",
    "print('AUC:', roc_auc_score(y_test_norm, y_pred_cnn_filt_pool))\n",
    "\n",
    "# Graficamos la evolución de error (Logic Loss)\n",
    "plt.figure(figsize=(20,6))\n",
    "plt.plot(registros_pool.epoch, registros_pool.history['loss'], linewidth=3, label='training Log-Loss')\n",
    "plt.plot(registros_pool.epoch, registros_pool.history['val_loss'], linewidth=3, label='test Log-Loss')\n",
    "plt.xticks(registros_pool.epoch)\n",
    "plt.xlabel('epochs')\n",
    "plt.ylabel('Loss')\n",
    "plt.title('La evolución de error')\n",
    "plt.legend(loc = 'upper right')\n",
    "plt.show()\n",
    "\n",
    "# Graficamos la evolución del porcentaje de acierto (Accuracy)\n",
    "plt.figure(figsize=(20,6))\n",
    "plt.plot(registros_pool.epoch, registros_pool.history['accuracy'], linewidth=3, label='training Accuracy')\n",
    "plt.plot(registros_pool.epoch, registros_pool.history['val_accuracy'], linewidth=3, label='test Accuracy')\n",
    "plt.xticks(registros_pool.epoch)\n",
    "plt.xlabel('epochs')\n",
    "plt.ylabel('Accuracy')\n",
    "plt.title('La evolución del porcentaje de acierto')\n",
    "plt.legend(loc = 'lower right')\n",
    "plt.show()"
   ]
  },
  {
   "cell_type": "markdown",
   "id": "1aa124e3",
   "metadata": {
    "id": "1aa124e3"
   },
   "source": [
    "Podemos observar que el modelo resultante con dos capas de _Max-Pooling_ tiene unos resultados muy aceptables, a pesar de tener un número menor de parámetros."
   ]
  },
  {
   "cell_type": "code",
   "execution_count": 33,
   "id": "8c86d261",
   "metadata": {
    "id": "8c86d261",
    "outputId": "6e38b820-57d2-425d-a6de-73210814a309"
   },
   "outputs": [
    {
     "name": "stdout",
     "output_type": "stream",
     "text": [
      "El número total de los parámetros de la red (modelo_dnn):  119810\n",
      "El número total de los parámetros de la red (modelo_cnn):  313230\n",
      "El número total de los parámetros de la red (modelo_cnn2):  1859470\n",
      "El número total de los parámetros de la red (modelo_cnn_pool):  89998\n",
      "El modelo con Max-Pooling es 20.7 veces más pequeño que el último modelo\n"
     ]
    }
   ],
   "source": [
    "print(\"El número total de los parámetros de la red (modelo_dnn): \", modelo_dnn.count_params())\n",
    "print(\"El número total de los parámetros de la red (modelo_cnn): \", modelo_cnn.count_params())\n",
    "print(\"El número total de los parámetros de la red (modelo_cnn2): \", modelo_cnn2.count_params())\n",
    "print(\"El número total de los parámetros de la red (modelo_cnn_pool): \", modelo_cnn_pool.count_params())\n",
    "\n",
    "print(\"El modelo con Max-Pooling es %.1f veces más pequeño que el último modelo\" % (modelo_cnn2.count_params()/modelo_cnn_pool.count_params()) )"
   ]
  },
  {
   "cell_type": "markdown",
   "id": "70a42532",
   "metadata": {
    "id": "70a42532"
   },
   "source": [
    "---"
   ]
  },
  {
   "cell_type": "markdown",
   "id": "87d0e73f",
   "metadata": {
    "id": "87d0e73f"
   },
   "source": [
    "### **`Ejercicio 17.2`**\n",
    "\n",
    "Saca la gráfica del **Learning Curve** con la estructura del último modelo analizado en la sesión (`modelo_cnn_pool`), definiendo y aplicando una función nueva considerando los siguientes puntos. Analiza y compara los resultados entre diferentes curvas y explica el modelo que se puede elegir como mejor clasificador:\n",
    "- La función toma solamente una entrada para el hiperparámetro `epochs`con `1` como el valor por defecto. Dibuja diferentes curvas para distintos números de iteraciones (_`epochs`_: `{1, 2, 3}`)\n",
    "- La curva muestra la evolución de `Accuracy` tanto para el conjunto de _training_ como para el dataset de _test_\n",
    "- `semilla=333`,\n",
    "- `batch_size=1000`,\n",
    "- `umbral=0.5`\n",
    "- (*Sugerencia*: No incluyas más de `5` puntos en el eje horizontal y empieza la gráfica con un mínimo de _100_ muestras para los modelos que se van a ajustar)"
   ]
  },
  {
   "cell_type": "code",
   "execution_count": 34,
   "id": "6b3554b0",
   "metadata": {
    "id": "6b3554b0"
   },
   "outputs": [],
   "source": [
    "# Solución\n",
    "# Ejercicio 17.2\n",
    "def generate_learning_curve(epoch:int=1):\n",
    "    import random\n",
    "    import tensorflow as tf\n",
    "    from keras.models import Sequential\n",
    "    from keras import Input\n",
    "    from keras.layers import Dense, Conv2D, Flatten, MaxPooling2D\n",
    "    from sklearn.metrics import accuracy_score, classification_report, roc_curve, roc_auc_score\n",
    "    from keras.backend import clear_session\n",
    "\n",
    "    # Resetear el estado global de keras\n",
    "    clear_session()\n",
    "\n",
    "    # Fijar la semilla para conseguir la reproducibilidad de los resultados\n",
    "    semilla = 333\n",
    "    random.seed(semilla)   # Fijar la semilla a nivel de `python`\n",
    "    np.random.seed(semilla)  # Fijar la semilla a nivel de `numpy`  \n",
    "    tf.random.set_seed(semilla)  # Fijar la semilla a nivel de `tensorflow`\n",
    "    # Declarar el modelo que se va a crear\n",
    "    \n",
    "    modelo_cnn_pool = Sequential()\n",
    "    modelo_cnn_pool.add(Input(shape=x_train[0].shape))\n",
    "    modelo_cnn_pool.add(Conv2D(filters=16, kernel_size=(5,5), activation='relu'))\n",
    "    modelo_cnn_pool.add(MaxPooling2D(pool_size=(2,2)))\n",
    "    modelo_cnn_pool.add(Conv2D(filters=36, kernel_size=(5,5), activation='relu'))\n",
    "    modelo_cnn_pool.add(MaxPooling2D(pool_size=(2,2)))\n",
    "    modelo_cnn_pool.add(Flatten())\n",
    "    modelo_cnn_pool.add(Dense(128, activation='relu'))\n",
    "    modelo_cnn_pool.add(Dense(10, activation='softmax'))\n",
    "\n",
    "    # Compilar e indicar los ajustes del modelo\n",
    "    modelo_cnn_pool.compile(loss='binary_crossentropy', optimizer='Adam', metrics=['accuracy'])\n",
    "\n",
    "    # Consultar el resumen del modelo definido\n",
    "    modelo_cnn_pool.summary()\n",
    "\n",
    "    # Ajustar el modelo a los datos del entrenamiento.\n",
    "    registros_pool = modelo_cnn_pool.fit(x_train, y_train_norm, validation_data=(x_test, y_test_norm), epochs=epoch, batch_size=1000)\n",
    "\n",
    "    # Calcular las predicciones para el conjunto de test \n",
    "    y_pred_cnn_pool = modelo_cnn_pool.predict(x_test)\n",
    "    \n",
    "\n",
    "    # Filtrar las predicciones y evaluar el modelo\n",
    "    y_pred_cnn_filt_pool = np.where(y_pred_cnn_pool < 0.5, 0, 1)\n",
    "    print('Acuracy is:', accuracy_score(y_test_norm, y_pred_cnn_filt_pool))\n",
    "    print('AUC:', roc_auc_score(y_test_norm, y_pred_cnn_filt_pool))\n",
    "    \n",
    "    \n",
    "    # Crear un listado de los tamaños de subconjuntos de datos de entrenamiento\n",
    "    num_samples = np.linspace(100,x_train.shape[0],5).astype(int)\n",
    "    # Generamos previamente los vectores necesarios para ir calculando y guardando el rendimiento\n",
    "    train_score = np.zeros(num_samples.size) \n",
    "    test_score = np.zeros(num_samples.size)\n",
    "    \n",
    "    \n",
    "    for i in range(num_samples.size):\n",
    "        registros_pool = modelo_cnn_pool.fit(x_train[:num_samples[i]], y_train_norm[:num_samples[i]], validation_data=(x_test, y_test_norm), epochs=epoch, batch_size=1000)\n",
    "        # Calculamos el área bajo la curva de funcionamiento del receptor sobre datos de train y de test\n",
    "        y_pred_cnn_pool = modelo_cnn_pool.predict(x_test)\n",
    "\n",
    "        # Filtrar las predicciones y evaluar el modelo\n",
    "        y_pred_cnn_filt_pool = np.where(y_pred_cnn_pool < 0.5, 0, 1)\n",
    "        \n",
    "        train_score[i] = registros_pool.history['accuracy'][0]\n",
    "        test_score[i] = accuracy_score(y_test_norm, y_pred_cnn_filt_pool)\n",
    "\n",
    "    print(\"La diferencia final del rendimiento del modelo entre training y test es= \", train_score[-1]-test_score[-1])\n",
    "\n",
    "    # Graficamos el rendimiento de training versus de test\n",
    "    plt.plot(num_samples, test_score, label = 'Test Accuracy')\n",
    "    plt.plot(num_samples, train_score, label = 'Train Accuracy')\n",
    "    plt.title('Curva de aprendizaje (Learning Curve) para el modelo_svc')\n",
    "    plt.xlabel('Tamaño de entrenamiento (Training size)')\n",
    "    plt.ylabel('Accuracy')\n",
    "    plt.legend(loc = 'lower right')  \n",
    "\n",
    "    "
   ]
  },
  {
   "cell_type": "code",
   "execution_count": 35,
   "id": "e092fa8c",
   "metadata": {
    "id": "e092fa8c",
    "outputId": "9ff14ddb-f990-4c9d-ab81-953430e9f0fa"
   },
   "outputs": [
    {
     "name": "stdout",
     "output_type": "stream",
     "text": [
      "Model: \"sequential\"\n",
      "_________________________________________________________________\n",
      " Layer (type)                Output Shape              Param #   \n",
      "=================================================================\n",
      " conv2d (Conv2D)             (None, 24, 24, 16)        416       \n",
      "                                                                 \n",
      " max_pooling2d (MaxPooling2D  (None, 12, 12, 16)       0         \n",
      " )                                                               \n",
      "                                                                 \n",
      " conv2d_1 (Conv2D)           (None, 8, 8, 36)          14436     \n",
      "                                                                 \n",
      " max_pooling2d_1 (MaxPooling  (None, 4, 4, 36)         0         \n",
      " 2D)                                                             \n",
      "                                                                 \n",
      " flatten (Flatten)           (None, 576)               0         \n",
      "                                                                 \n",
      " dense (Dense)               (None, 128)               73856     \n",
      "                                                                 \n",
      " dense_1 (Dense)             (None, 10)                1290      \n",
      "                                                                 \n",
      "=================================================================\n",
      "Total params: 89,998\n",
      "Trainable params: 89,998\n",
      "Non-trainable params: 0\n",
      "_________________________________________________________________\n",
      "Epoch 1/3\n",
      "60/60 [==============================] - 36s 591ms/step - loss: 0.3042 - accuracy: 0.4644 - val_loss: 0.1517 - val_accuracy: 0.8138\n",
      "Epoch 2/3\n",
      "60/60 [==============================] - 33s 548ms/step - loss: 0.0844 - accuracy: 0.8860 - val_loss: 0.0492 - val_accuracy: 0.9384\n",
      "Epoch 3/3\n",
      "60/60 [==============================] - 31s 524ms/step - loss: 0.0417 - accuracy: 0.9444 - val_loss: 0.0300 - val_accuracy: 0.9622\n",
      "313/313 [==============================] - 3s 9ms/step\n",
      "Acuracy is: 0.9582\n",
      "AUC: 0.9772266975804353\n",
      "Epoch 1/3\n",
      "1/1 [==============================] - 2s 2s/step - loss: 0.0358 - accuracy: 0.9600 - val_loss: 0.0306 - val_accuracy: 0.9610\n",
      "Epoch 2/3\n",
      "1/1 [==============================] - 1s 980ms/step - loss: 0.0310 - accuracy: 0.9600 - val_loss: 0.0345 - val_accuracy: 0.9530\n",
      "Epoch 3/3\n",
      "1/1 [==============================] - 1s 884ms/step - loss: 0.0255 - accuracy: 0.9700 - val_loss: 0.0428 - val_accuracy: 0.9404\n",
      "313/313 [==============================] - 2s 7ms/step\n",
      "Epoch 1/3\n",
      "16/16 [==============================] - 6s 409ms/step - loss: 0.0356 - accuracy: 0.9521 - val_loss: 0.0288 - val_accuracy: 0.9649\n",
      "Epoch 2/3\n",
      "16/16 [==============================] - 7s 454ms/step - loss: 0.0292 - accuracy: 0.9606 - val_loss: 0.0247 - val_accuracy: 0.9702\n",
      "Epoch 3/3\n",
      "16/16 [==============================] - 10s 627ms/step - loss: 0.0259 - accuracy: 0.9670 - val_loss: 0.0232 - val_accuracy: 0.9709\n",
      "313/313 [==============================] - 3s 10ms/step\n",
      "Epoch 1/3\n",
      "31/31 [==============================] - 16s 501ms/step - loss: 0.0236 - accuracy: 0.9699 - val_loss: 0.0213 - val_accuracy: 0.9749\n",
      "Epoch 2/3\n",
      "31/31 [==============================] - 17s 544ms/step - loss: 0.0213 - accuracy: 0.9730 - val_loss: 0.0188 - val_accuracy: 0.9775\n",
      "Epoch 3/3\n",
      "31/31 [==============================] - 13s 431ms/step - loss: 0.0191 - accuracy: 0.9758 - val_loss: 0.0169 - val_accuracy: 0.9803\n",
      "313/313 [==============================] - 2s 5ms/step\n",
      "Epoch 1/3\n",
      "46/46 [==============================] - 17s 361ms/step - loss: 0.0172 - accuracy: 0.9779 - val_loss: 0.0147 - val_accuracy: 0.9822\n",
      "Epoch 2/3\n",
      "46/46 [==============================] - 18s 385ms/step - loss: 0.0155 - accuracy: 0.9801 - val_loss: 0.0135 - val_accuracy: 0.9832\n",
      "Epoch 3/3\n",
      "46/46 [==============================] - 14s 313ms/step - loss: 0.0144 - accuracy: 0.9817 - val_loss: 0.0126 - val_accuracy: 0.9839\n",
      "313/313 [==============================] - 1s 4ms/step\n",
      "Epoch 1/3\n",
      "60/60 [==============================] - 18s 307ms/step - loss: 0.0134 - accuracy: 0.9828 - val_loss: 0.0108 - val_accuracy: 0.9854\n",
      "Epoch 2/3\n",
      "60/60 [==============================] - 19s 309ms/step - loss: 0.0119 - accuracy: 0.9848 - val_loss: 0.0107 - val_accuracy: 0.9862\n",
      "Epoch 3/3\n",
      "60/60 [==============================] - 19s 325ms/step - loss: 0.0109 - accuracy: 0.9860 - val_loss: 0.0091 - val_accuracy: 0.9883\n",
      "313/313 [==============================] - 2s 5ms/step\n",
      "La diferencia final del rendimiento del modelo entre training y test es=  -0.005133312129974366\n"
     ]
    },
    {
     "data": {
      "image/png": "[encoded data removed]",
      "text/plain": [
       "<Figure size 864x432 with 1 Axes>"
      ]
     },
     "metadata": {
      "needs_background": "light"
     },
     "output_type": "display_data"
    }
   ],
   "source": [
    "generate_learning_curve(3)"
   ]
  }
 ],
 "metadata": {
  "colab": {
   "provenance": []
  },
  "kernelspec": {
   "display_name": "Python 3",
   "language": "python",
   "name": "python3"
  },
  "language_info": {
   "codemirror_mode": {
    "name": "ipython",
    "version": 3
   },
   "file_extension": ".py",
   "mimetype": "text/x-python",
   "name": "python",
   "nbconvert_exporter": "python",
   "pygments_lexer": "ipython3",
   "version": "3.8.8"
  },
  "vscode": {
   "interpreter": {
    "hash": "fd755ef5c364b0937fa7f305ca71365387f816473e8af8795860aa053b94a5ad"
   }
  }
 },
 "nbformat": 4,
 "nbformat_minor": 5
}
